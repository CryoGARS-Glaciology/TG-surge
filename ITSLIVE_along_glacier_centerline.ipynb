{
 "cells": [
  {
   "cell_type": "markdown",
   "id": "7417b1d0",
   "metadata": {},
   "source": [
    "# Pull ITS_LIVE velocities along a glacier centerline\n",
    "\n",
    "Must have the __its_live__ GitHub code: https://github.com/nasa-jpl/its_live\n",
    "\n",
    "Requires activated __itslive-notebooks__ environment.\n",
    "\n",
    "If you have not created this environment, create it with conda.\n",
    "From the __its_live__ GitHub repository root, run in a terminal:\n",
    "\n",
    "    cd notebooks\n",
    "    conda env create -f environment.yml\n",
    "\n",
    "Activate the environment:\n",
    "\n",
    "    conda activate itslive-notebooks\n",
    "    \n",
    "Then start the jupyter notebook in the active environment:\n",
    "\n",
    "    jupyter notebook\n",
    "    \n",
    "_Last modified by jukesliu@u.boisestate.edu 2022-09-21._"
   ]
  },
  {
   "cell_type": "code",
   "execution_count": 1,
   "id": "fc3054c0",
   "metadata": {},
   "outputs": [
    {
     "name": "stderr",
     "output_type": "stream",
     "text": [
      "/Users/jukesliu/opt/anaconda3/envs/itslive-notebooks/lib/python3.9/site-packages/pyproj/crs/crs.py:131: FutureWarning: '+init=<authority>:<code>' syntax is deprecated. '<authority>:<code>' is the preferred initialization method. When making the change, be mindful of axis order changes: https://pyproj4.github.io/pyproj/stable/gotchas.html#axis-order-changes-in-proj-6\n",
      "  in_crs_string = _prepare_from_proj_string(in_crs_string)\n"
     ]
    },
    {
     "name": "stdout",
     "output_type": "stream",
     "text": [
      "NoneType: None\n",
      "\n"
     ]
    }
   ],
   "source": [
    "import numpy as np\n",
    "import pandas as pd\n",
    "import os\n",
    "import matplotlib.pyplot as plt\n",
    "import datetime\n",
    "import xarray\n",
    "from ordered_set import OrderedSet # pip install ordered-set\n",
    "from pyproj import Proj # to get UTM coordinates from lat, lon\n",
    "import cmocean\n",
    "import fiona\n",
    "\n",
    "# import additioonal functions\n",
    "from additional_functions import *\n",
    "# intialize projections:\n",
    "TurnerProj = Proj(\"+proj=utm +zone=7 +hemisphere='N' +ellps=WGS84 +datum=WGS84 +units=m +no_defs\") # UTM Zone 7N\n",
    "psProj = Proj(init='epsg:3413') # Greenland Polar Stereographic projection\n",
    "\n",
    "# import the velocity widget from ITS LIVE\n",
    "from velocity_widget import ITSLIVE\n",
    "velocity_widget = ITSLIVE()"
   ]
  },
  {
   "cell_type": "code",
   "execution_count": 2,
   "id": "0b85fe23",
   "metadata": {},
   "outputs": [],
   "source": [
    "# install cmocean if not installed\n",
    "# !pip install cmocean"
   ]
  },
  {
   "cell_type": "markdown",
   "id": "c4e05c03",
   "metadata": {},
   "source": [
    "# 1) Set one point location and the variable of interest (v, vx, vy, va, va_error)"
   ]
  },
  {
   "cell_type": "code",
   "execution_count": 3,
   "id": "9d02f5f7",
   "metadata": {},
   "outputs": [
    {
     "name": "stdout",
     "output_type": "stream",
     "text": [
      "Lat/lon: (-139.74, 60.06)\n",
      "EPSG3413: -3304871.2608492156 274032.84194428363\n",
      "UTM7N:  570149.7451277426 6658761.7254312225\n"
     ]
    }
   ],
   "source": [
    "EPSG = '4326'\n",
    "point_xy = (-139.74, 60.06)\n",
    "UTMx, UTMy = TurnerProj(point_xy[0], point_xy[1])\n",
    "psx, psy = psProj(point_xy[0], point_xy[1])\n",
    "print(\"Lat/lon:\",point_xy)\n",
    "print(\"EPSG3413:\", psx, psy)\n",
    "print(\"UTM7N: \", UTMx, UTMy)\n",
    "variable = 'v' # vx, vy, v_error"
   ]
  },
  {
   "cell_type": "code",
   "execution_count": 4,
   "id": "f0359ac1",
   "metadata": {},
   "outputs": [
    {
     "name": "stdout",
     "output_type": "stream",
     "text": [
      "found datacube - elapsed time:       0.03\n",
      "{'fill-opacity': 0.2621744976502005, 'fill': 'red', 'roi_percent_coverage': 73.78255023497995, 'geometry_epsg': {'type': 'Polygon', 'coordinates': [[[-3400000, 200000], [-3300000, 200000], [-3300000, 300000], [-3400000, 300000], [-3400000, 200000]]]}, 'datacube_exist': 1, 'zarr_url': 'http://its-live-data.s3.amazonaws.com/datacubes/v02/N50W130/ITS_LIVE_vel_EPSG3413_G0120_X-3350000_Y250000.zarr', 'epsg': 3413}\n",
      "original xy (-139.74, 60.06) 4326 maps to datacube (-3304871.2608492156, 274032.84194428363)  3413\n",
      "xarray open - elapsed time:       2.77\n",
      "time series loaded 33892 points - elapsed time:       3.12\n"
     ]
    }
   ],
   "source": [
    "# grab time series for that point\n",
    "[ins3xr, pt_variable, point_tilexy] = velocity_widget.get_timeseries(point_xy, EPSG, variable)"
   ]
  },
  {
   "cell_type": "markdown",
   "id": "d270d440",
   "metadata": {},
   "source": [
    "### Select the velocities for that point by sensor"
   ]
  },
  {
   "cell_type": "code",
   "execution_count": 5,
   "id": "74f53961",
   "metadata": {},
   "outputs": [
    {
     "name": "stdout",
     "output_type": "stream",
     "text": [
      "['2B', '1A', '9.', '1B', '2A', '8.']\n"
     ]
    }
   ],
   "source": [
    "# different satellite sensors\n",
    "satellites = list(set(ins3xr.satellite_img1.values))\n",
    "print(satellites)"
   ]
  },
  {
   "cell_type": "code",
   "execution_count": 6,
   "id": "6b66dc8b",
   "metadata": {},
   "outputs": [
    {
     "data": {
      "text/html": [
       "<div>\n",
       "<style scoped>\n",
       "    .dataframe tbody tr th:only-of-type {\n",
       "        vertical-align: middle;\n",
       "    }\n",
       "\n",
       "    .dataframe tbody tr th {\n",
       "        vertical-align: top;\n",
       "    }\n",
       "\n",
       "    .dataframe thead th {\n",
       "        text-align: right;\n",
       "    }\n",
       "</style>\n",
       "<table border=\"1\" class=\"dataframe\">\n",
       "  <thead>\n",
       "    <tr style=\"text-align: right;\">\n",
       "      <th></th>\n",
       "      <th>mid_date</th>\n",
       "      <th>v</th>\n",
       "      <th>d1</th>\n",
       "      <th>d2</th>\n",
       "      <th>sat</th>\n",
       "    </tr>\n",
       "  </thead>\n",
       "  <tbody>\n",
       "    <tr>\n",
       "      <th>0</th>\n",
       "      <td>2019-01-14 15:48:37.424842752</td>\n",
       "      <td>NaN</td>\n",
       "      <td>2019-01-08 15:48:37.464079872</td>\n",
       "      <td>2019-01-20 15:48:37.265324032</td>\n",
       "      <td>1A</td>\n",
       "    </tr>\n",
       "    <tr>\n",
       "      <th>1</th>\n",
       "      <td>2021-07-02 15:48:53.699193088</td>\n",
       "      <td>NaN</td>\n",
       "      <td>2021-06-26 15:48:53.323300096</td>\n",
       "      <td>2021-07-08 15:48:53.954802688</td>\n",
       "      <td>1A</td>\n",
       "    </tr>\n",
       "    <tr>\n",
       "      <th>2</th>\n",
       "      <td>2017-04-02 02:54:50.298477312</td>\n",
       "      <td>NaN</td>\n",
       "      <td>2017-03-27 02:54:50.000769792</td>\n",
       "      <td>2017-04-08 02:54:50.477907968</td>\n",
       "      <td>1A</td>\n",
       "    </tr>\n",
       "    <tr>\n",
       "      <th>3</th>\n",
       "      <td>2018-10-04 15:48:39.701758976</td>\n",
       "      <td>NaN</td>\n",
       "      <td>2018-09-22 15:48:39.385136128</td>\n",
       "      <td>2018-10-16 15:48:39.898100992</td>\n",
       "      <td>1A</td>\n",
       "    </tr>\n",
       "    <tr>\n",
       "      <th>4</th>\n",
       "      <td>2016-03-14 15:31:50.847436032</td>\n",
       "      <td>NaN</td>\n",
       "      <td>2016-03-02 15:31:50.558352896</td>\n",
       "      <td>2016-03-26 15:31:51.016245248</td>\n",
       "      <td>1A</td>\n",
       "    </tr>\n",
       "  </tbody>\n",
       "</table>\n",
       "</div>"
      ],
      "text/plain": [
       "                       mid_date   v                            d1  \\\n",
       "0 2019-01-14 15:48:37.424842752 NaN 2019-01-08 15:48:37.464079872   \n",
       "1 2021-07-02 15:48:53.699193088 NaN 2021-06-26 15:48:53.323300096   \n",
       "2 2017-04-02 02:54:50.298477312 NaN 2017-03-27 02:54:50.000769792   \n",
       "3 2018-10-04 15:48:39.701758976 NaN 2018-09-22 15:48:39.385136128   \n",
       "4 2016-03-14 15:31:50.847436032 NaN 2016-03-02 15:31:50.558352896   \n",
       "\n",
       "                             d2 sat  \n",
       "0 2019-01-20 15:48:37.265324032  1A  \n",
       "1 2021-07-08 15:48:53.954802688  1A  \n",
       "2 2017-04-08 02:54:50.477907968  1A  \n",
       "3 2018-10-16 15:48:39.898100992  1A  \n",
       "4 2016-03-26 15:31:51.016245248  1A  "
      ]
     },
     "execution_count": 6,
     "metadata": {},
     "output_type": "execute_result"
    }
   ],
   "source": [
    "# grab SAR data\n",
    "[mid_dates_SAR, var_SAR, d1_SAR, d2_SAR, sat_SAR] = grab_v_by_sensor(ins3xr, pt_variable, \n",
    "                                                            30, # max separation of 30 days\n",
    "                                                            ['1A','1B']) # SAR sensors\n",
    "SAR_df = pd.DataFrame(list(zip(mid_dates_SAR, var_SAR, d1_SAR, d2_SAR, sat_SAR)),\n",
    "                      columns=['mid_date','v','d1','d2','sat'])\n",
    "SAR_df.head()"
   ]
  },
  {
   "cell_type": "code",
   "execution_count": 7,
   "id": "7fe8fee2",
   "metadata": {},
   "outputs": [
    {
     "data": {
      "text/html": [
       "<div>\n",
       "<style scoped>\n",
       "    .dataframe tbody tr th:only-of-type {\n",
       "        vertical-align: middle;\n",
       "    }\n",
       "\n",
       "    .dataframe tbody tr th {\n",
       "        vertical-align: top;\n",
       "    }\n",
       "\n",
       "    .dataframe thead th {\n",
       "        text-align: right;\n",
       "    }\n",
       "</style>\n",
       "<table border=\"1\" class=\"dataframe\">\n",
       "  <thead>\n",
       "    <tr style=\"text-align: right;\">\n",
       "      <th></th>\n",
       "      <th>mid_date</th>\n",
       "      <th>v</th>\n",
       "      <th>d1</th>\n",
       "      <th>d2</th>\n",
       "      <th>sat</th>\n",
       "    </tr>\n",
       "  </thead>\n",
       "  <tbody>\n",
       "    <tr>\n",
       "      <th>0</th>\n",
       "      <td>2014-04-11 20:18:38.560136960</td>\n",
       "      <td>NaN</td>\n",
       "      <td>2014-04-03 20:18:47.000000000</td>\n",
       "      <td>2014-04-19 20:18:30.000000000</td>\n",
       "      <td>8.</td>\n",
       "    </tr>\n",
       "    <tr>\n",
       "      <th>1</th>\n",
       "      <td>2014-04-27 20:18:21.560136960</td>\n",
       "      <td>NaN</td>\n",
       "      <td>2014-04-19 20:18:30.000000000</td>\n",
       "      <td>2014-05-05 20:18:13.000000000</td>\n",
       "      <td>8.</td>\n",
       "    </tr>\n",
       "    <tr>\n",
       "      <th>2</th>\n",
       "      <td>2014-03-15 20:37:35.560141056</td>\n",
       "      <td>NaN</td>\n",
       "      <td>2014-03-07 20:37:42.000000000</td>\n",
       "      <td>2014-03-23 20:37:29.000000000</td>\n",
       "      <td>8.</td>\n",
       "    </tr>\n",
       "    <tr>\n",
       "      <th>3</th>\n",
       "      <td>2017-04-03 20:18:08.560136960</td>\n",
       "      <td>NaN</td>\n",
       "      <td>2017-03-26 20:18:12.000000000</td>\n",
       "      <td>2017-04-11 20:18:04.999999744</td>\n",
       "      <td>8.</td>\n",
       "    </tr>\n",
       "    <tr>\n",
       "      <th>4</th>\n",
       "      <td>2021-07-24 20:37:07.546696960</td>\n",
       "      <td>NaN</td>\n",
       "      <td>2021-07-16 20:37:03.224836352</td>\n",
       "      <td>2021-08-01 20:37:11.748274944</td>\n",
       "      <td>8.</td>\n",
       "    </tr>\n",
       "  </tbody>\n",
       "</table>\n",
       "</div>"
      ],
      "text/plain": [
       "                       mid_date   v                            d1  \\\n",
       "0 2014-04-11 20:18:38.560136960 NaN 2014-04-03 20:18:47.000000000   \n",
       "1 2014-04-27 20:18:21.560136960 NaN 2014-04-19 20:18:30.000000000   \n",
       "2 2014-03-15 20:37:35.560141056 NaN 2014-03-07 20:37:42.000000000   \n",
       "3 2017-04-03 20:18:08.560136960 NaN 2017-03-26 20:18:12.000000000   \n",
       "4 2021-07-24 20:37:07.546696960 NaN 2021-07-16 20:37:03.224836352   \n",
       "\n",
       "                             d2 sat  \n",
       "0 2014-04-19 20:18:30.000000000  8.  \n",
       "1 2014-05-05 20:18:13.000000000  8.  \n",
       "2 2014-03-23 20:37:29.000000000  8.  \n",
       "3 2017-04-11 20:18:04.999999744  8.  \n",
       "4 2021-08-01 20:37:11.748274944  8.  "
      ]
     },
     "execution_count": 7,
     "metadata": {},
     "output_type": "execute_result"
    }
   ],
   "source": [
    "# grab optical data\n",
    "[mid_dates_opt, var_opt, d1_opt, d2_opt, sat_opt] = grab_v_by_sensor(ins3xr, pt_variable, \n",
    "                                                            30, # max separation of 30 days\n",
    "                                                            ['8.','9.','2A','2B']) \n",
    "optical_df = pd.DataFrame(list(zip(mid_dates_opt, var_opt, d1_opt, d2_opt, sat_opt)),\n",
    "                      columns=['mid_date','v','d1','d2','sat'])\n",
    "optical_df.head()"
   ]
  },
  {
   "cell_type": "markdown",
   "id": "ae4dedd2",
   "metadata": {},
   "source": [
    "### Plot velocity time series at that point:"
   ]
  },
  {
   "cell_type": "code",
   "execution_count": 10,
   "id": "19e2768c",
   "metadata": {},
   "outputs": [
    {
     "data": {
      "image/png": "[encoded data removed]",
      "text/plain": [
       "<Figure size 720x720 with 2 Axes>"
      ]
     },
     "metadata": {
      "needs_background": "light"
     },
     "output_type": "display_data"
    }
   ],
   "source": [
    "# Plot by sat groups\n",
    "fig, axs = plt.subplots(2,1,figsize=(10,10))\n",
    "ax_idx = 0\n",
    "for df in [optical_df, SAR_df]:\n",
    "    groups = df.groupby('sat')\n",
    "    for name, group in groups:\n",
    "        axs[ax_idx].plot(group.mid_date, mytomd(group.v), marker='o', linestyle='', ms=4, label=name, alpha=0.5)\n",
    "    axs[ax_idx].legend()\n",
    "    axs[ax_idx].set_ylabel('Surface speed (m/d)')\n",
    "    axs[ax_idx].set_ylim(0, np.nanmax(mytomd(np.concatenate([optical_df.v,SAR_df.v])))+2)\n",
    "    axs[ax_idx].grid()\n",
    "    ax_idx+=1\n",
    "    \n",
    "plt.show()"
   ]
  },
  {
   "cell_type": "code",
   "execution_count": 11,
   "id": "0638a665",
   "metadata": {},
   "outputs": [
    {
     "data": {
      "image/png": "[encoded data removed]",
      "text/plain": [
       "<Figure size 432x288 with 1 Axes>"
      ]
     },
     "metadata": {
      "needs_background": "light"
     },
     "output_type": "display_data"
    }
   ],
   "source": [
    "# compare to the ITS_LIVE plot\n",
    "plot_by_sensor(ins3xr, pt_variable, 150) # max separation of 30 days"
   ]
  },
  {
   "cell_type": "code",
   "execution_count": 14,
   "id": "a6374d59",
   "metadata": {},
   "outputs": [
    {
     "data": {
      "image/png": "[encoded data removed]",
      "text/plain": [
       "<Figure size 720x360 with 1 Axes>"
      ]
     },
     "metadata": {
      "needs_background": "light"
     },
     "output_type": "display_data"
    }
   ],
   "source": [
    "# Plot SAR vs. other\n",
    "plt.figure(figsize=(10,5))\n",
    "plt.plot(ins3xr.mid_date, mytomd(pt_variable),'o', color='gray',markersize=3) # All\n",
    "plt.plot(mid_dates_SAR, mytomd(var_SAR),'r+',markersize=7) # SAR\n",
    "plt.ylabel('Surface speed (m/d)')\n",
    "plt.grid()\n",
    "plt.legend(['All sensors', 'Sentinel-1'],loc='upper center')\n",
    "plt.show()"
   ]
  },
  {
   "cell_type": "code",
   "execution_count": null,
   "id": "dc63357a",
   "metadata": {},
   "outputs": [],
   "source": [
    "# plt.plot(ins3xr.mid_date, ins3xr.satellite_img1, '.')"
   ]
  },
  {
   "cell_type": "markdown",
   "id": "95f13ddb",
   "metadata": {},
   "source": [
    "# 2) Plot entire map overlapping the point for each mid_date (slow):"
   ]
  },
  {
   "cell_type": "code",
   "execution_count": null,
   "id": "494bf173",
   "metadata": {},
   "outputs": [],
   "source": [
    "# figpath = '/Users/jukesliu/Documents/TURNER/DATA/VELOCITY_MAPS/its_live_maps/' # path to save figures to"
   ]
  },
  {
   "cell_type": "code",
   "execution_count": null,
   "id": "b378f652",
   "metadata": {
    "scrolled": false
   },
   "outputs": [],
   "source": [
    "# for t in ins3xr.mid_date:\n",
    "#     datestr = str(t.values)[:10]\n",
    "#     sensorstr = str(ins3xr.satellite_img1[ins3xr.mid_date == t].values[0])\n",
    "#     titlestr = datestr+', sensor:'+sensorstr\n",
    "#     print(titlestr)\n",
    "    \n",
    "#     # plot the map\n",
    "#     plt.subplots(1,1)\n",
    "#     ins3xr.sel(mid_date=t).v.plot(cmap=cmocean.cm.thermal) # can specify xlim, ylim\n",
    "#     plt.scatter(point_tilexy[0],point_tilexy[1], color='red') # point of interest\n",
    "#     plt.title(titlestr)\n",
    "#     plt.savefig(figpath+datestr+'_'+sensorstr+'.png',dpi=200)\n",
    "#     plt.show()"
   ]
  },
  {
   "cell_type": "code",
   "execution_count": null,
   "id": "a23e1566",
   "metadata": {},
   "outputs": [],
   "source": [
    "# ins3xr"
   ]
  },
  {
   "cell_type": "markdown",
   "id": "fe592b03",
   "metadata": {},
   "source": [
    "# 3) Grab velocities along centerline"
   ]
  },
  {
   "cell_type": "code",
   "execution_count": null,
   "id": "bfa1196b",
   "metadata": {},
   "outputs": [],
   "source": [
    "cline_path = '/Users/jukesliu/Documents/TURNER/DATA/shapefiles_gis/centerlines/'\n",
    "clinefile = 'centerline_n_utm07_250m.shp' # spaced 250 m apart\n",
    "\n",
    "# open centerline shapefile (points) and grab lat,lon coordinates\n",
    "f = fiona.open(cline_path+clinefile)\n",
    "fcoords = []\n",
    "for feature in f:\n",
    "    fcoords.append(feature['geometry']['coordinates'])\n",
    "fcoords"
   ]
  },
  {
   "cell_type": "code",
   "execution_count": null,
   "id": "44a0b3e0",
   "metadata": {
    "scrolled": true
   },
   "outputs": [],
   "source": [
    "################################\n",
    "max_separation = 365 # days\n",
    "# sensor_list = ['1A','1B'] # toggle SAR images\n",
    "sensor_list = ['8.','2A','2B'] # toggle optical images\n",
    "EPSG = '32607' # point coordinate projection\n",
    "################################\n",
    "\n",
    "v_err_dfs = []\n",
    "vx_dfs = []\n",
    "vy_dfs = []\n",
    "counter = 0\n",
    "for point_xy in fcoords:\n",
    "    lon = point_xy[0]; lat = point_xy[1] # grab the point coodinates\n",
    "    UTMx, UTMy = TurnerProj(lon, lat) # convert lat lon to UTM\n",
    "\n",
    "    if counter < len(fcoords)-1: # don't exceed coordinates\n",
    "        for variable in [\"vx\",\"vy\",\"v_error\"]: # need to match ins3xr variable names\n",
    "            [ins3xr, pt_variable, point_tilexy] = velocity_widget.get_timeseries(point_xy, EPSG, variable)\n",
    "            [mid_dates, var, d1, d2, sat] = grab_v_by_sensor(ins3xr, pt_variable, \n",
    "                                                                max_separation, # max separation of 30 days \n",
    "                                                                sensor_list) \n",
    "            # create columns with UTM and lat/lon coordinates\n",
    "            lons = np.full(np.size(mid_dates), lon); lats = np.full(np.size(mid_dates), lat)  \n",
    "            UTMxs = np.full(np.size(mid_dates), UTMx); UTMys = np.full(np.size(mid_dates), UTMy)  \n",
    "\n",
    "            # enter into dataframe\n",
    "            df = pd.DataFrame(list(zip(lons, lats, UTMxs, UTMys, mid_dates, d1, d2, var, sat)),\n",
    "                            columns=['lon','lat','UTMx','UTMy','mid_date','ds1','ds2',variable,'sat'])\n",
    "            \n",
    "            # append dataframe\n",
    "            if np.count_nonzero(~np.isnan(df[variable])) >= len(fcoords)/3: # if at least 1/3 of centerline has data\n",
    "                if variable == 'vx':\n",
    "                    vx_dfs.append(df)\n",
    "                elif variable == 'vy':\n",
    "                    vy_dfs.append(df)\n",
    "                elif variable == 'v_error':\n",
    "                    v_err_dfs.append(df)\n",
    "        \n",
    "    counter += 1 # increment counter"
   ]
  },
  {
   "cell_type": "code",
   "execution_count": null,
   "id": "09b620f2",
   "metadata": {},
   "outputs": [],
   "source": [
    "# concatenate all dfs\n",
    "vx_df = pd.concat(vx_dfs); vx_df.columns=['lon','lat','UTMx','UTMy','mid_date','ds1','ds2','vx','sat']\n",
    "vy_df = pd.concat(vy_dfs); vy_df.columns=['lon','lat','UTMx','UTMy','mid_date','ds1','ds2','vy','sat']\n",
    "verror_df = pd.concat(v_err_dfs); verror_df.columns=['lon','lat','UTMx','UTMy','mid_date','ds1','ds2','v_error','sat']"
   ]
  },
  {
   "cell_type": "code",
   "execution_count": null,
   "id": "986b874c",
   "metadata": {},
   "outputs": [],
   "source": [
    "total_df = verror_df.merge(vy_df.merge(vx_df, \n",
    "                       on=['lon','lat','UTMx','UTMy','mid_date','ds1','ds2','sat'],\n",
    "                       how='inner').drop_duplicates(), \n",
    "                           on=['lon','lat','UTMx','UTMy','mid_date','ds1','ds2','sat'],\n",
    "                           how='inner').drop_duplicates()\n",
    "# remove time from datetimes\n",
    "total_df.ds1 = [str(d1)[:10] for d1 in total_df.ds1]\n",
    "total_df.ds2 = [str(d1)[:10] for d1 in total_df.ds2]\n",
    "total_df.mid_date = [str(d1)[:10] for d1 in total_df.mid_date]\n",
    "\n",
    "# reset indexes\n",
    "total_df = total_df.reset_index(drop=True)\n",
    "total_df"
   ]
  },
  {
   "cell_type": "code",
   "execution_count": null,
   "id": "2f824733",
   "metadata": {},
   "outputs": [],
   "source": [
    "total_df.to_csv('ITS_LIVE_vx_vy_optical_centerline_n.csv')"
   ]
  },
  {
   "cell_type": "markdown",
   "id": "20e85097",
   "metadata": {},
   "source": [
    "### Calculate distance along glacier centerline and speed values"
   ]
  },
  {
   "cell_type": "code",
   "execution_count": 2,
   "id": "6c5bcee0",
   "metadata": {},
   "outputs": [],
   "source": [
    "# # read in the csv file\n",
    "# csvname = 'ITS_LIVE_vx_vy_optical_centerline_n.csv'\n",
    "# df = pd.read_csv(csvname, usecols=[1,2,3,4,5,6,7,8,9,10,11],dtype=str)\n",
    "# df = df.drop_duplicates()\n",
    "# df"
   ]
  },
  {
   "cell_type": "code",
   "execution_count": 3,
   "id": "a6e05b6e",
   "metadata": {},
   "outputs": [],
   "source": [
    "# # Show centerline\n",
    "# plt.plot(df.lon.astype(float), df.lat.astype(float), 'o-')\n",
    "# plt.show()"
   ]
  },
  {
   "cell_type": "code",
   "execution_count": 4,
   "id": "afe69544",
   "metadata": {
    "scrolled": true
   },
   "outputs": [],
   "source": [
    "# # Calculate distance along glacier centerline - HAS BUGS, NEED TO FIX\n",
    "# dist_kms = [] # calculated distance along the centerline\n",
    "# lats = list(OrderedSet(df.lat))\n",
    "# lats.sort()\n",
    "\n",
    "# df = df.sort_values(by='lat') # sort df by lat\n",
    "\n",
    "# for i in range(0, len(lats)):\n",
    "#     if i == 0: # first value\n",
    "#         dist_km = 0\n",
    "#     elif i < len(lats)-1:\n",
    "#         lat = lats[i] # grab the lat\n",
    "#         point_df = df[df.lat == lat] # grab the part of the table for that point\n",
    "\n",
    "#         # grab the UTM x and y\n",
    "#         x1 = list(point_df.UTMx.astype(float))[0]; y1 = list(point_df.UTMy.astype(float))[0]\n",
    "\n",
    "#         # grab the next UTM x and y\n",
    "#         lat2 = lats[i+1]\n",
    "#         point_df2 = df[df.lat == lat2] # grab the part of the table for that point\n",
    "#         x2 =  list(point_df2.UTMx.astype(float))[0]; y2 =  list(point_df2.UTMy.astype(float))[0]\n",
    "        \n",
    "#         dist_km = euc_distance(x1,y1,x2,y2)/1000 # calculate distances between points in km\n",
    "#     dist_kms.append(dist_km) # append to list\n",
    "    \n",
    "# dist_from_term = np.cumsum(dist_kms) # make a cumulative sum of distances from terminus\n",
    "# print(dist_from_term)\n",
    "\n",
    "# full_dist_list = []\n",
    "# # now add back into df\n",
    "# for i in range(0, len(lats)):\n",
    "#     lat = lats[i]; point_df = df[df.lat == lat] # grab the lat data for that point\n",
    "#     term_dist = dist_from_term[i] # grab the distance\n",
    "#     term_dists = np.full(np.size(point_df.lat), term_dist) # create a vector of distances\n",
    "#     full_dist_list.extend(term_dists) # add them all together\n",
    "# df['dist_km'] = full_dist_list\n",
    "# df"
   ]
  },
  {
   "cell_type": "code",
   "execution_count": 5,
   "id": "08179d0a",
   "metadata": {
    "scrolled": true
   },
   "outputs": [],
   "source": [
    "# # fill in empty halves - what's going on?\n",
    "# for idx, row in unique_date_df(sorted_df,'ds1','ds2').iterrows():\n",
    "#     d1 = row.ds1\n",
    "#     d2 = row.ds2\n",
    "#     date_df = sorted_df[(sorted_df.ds1 == d1) & (sorted_df.ds2 == d2)]\n",
    "    \n",
    "#     if len(date_df) == 22:\n",
    "#         continue\n",
    "# #         print(date_df.dist_km)\n",
    "#     else:\n",
    "#         print(len(date_df))\n",
    "# #         print(date_df.dist_km)"
   ]
  },
  {
   "cell_type": "code",
   "execution_count": null,
   "id": "5cbe6876",
   "metadata": {},
   "outputs": [],
   "source": [
    "# # sort the values by date and distance along centerline\n",
    "# sorted_df = df.sort_values(by=['mid_date','ds1','ds2','dist_km'])\n",
    "# sorted_df['vmag'] = vector_magnitude(sorted_df.vy.astype(float), sorted_df.vx.astype(float))\n",
    "# sorted_df\n",
    "\n",
    "# sorted_df"
   ]
  },
  {
   "cell_type": "code",
   "execution_count": null,
   "id": "dde8facb",
   "metadata": {},
   "outputs": [],
   "source": [
    "# sorted_df.to_csv(csvname) # save the file!"
   ]
  },
  {
   "cell_type": "code",
   "execution_count": null,
   "id": "33e347b8",
   "metadata": {},
   "outputs": [],
   "source": []
  }
 ],
 "metadata": {
  "kernelspec": {
   "display_name": "Python 3 (ipykernel)",
   "language": "python",
   "name": "python3"
  },
  "language_info": {
   "codemirror_mode": {
    "name": "ipython",
    "version": 3
   },
   "file_extension": ".py",
   "mimetype": "text/x-python",
   "name": "python",
   "nbconvert_exporter": "python",
   "pygments_lexer": "ipython3",
   "version": "3.9.10"
  }
 },
 "nbformat": 4,
 "nbformat_minor": 5
}

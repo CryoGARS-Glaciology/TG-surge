{
 "cells": [
  {
   "cell_type": "code",
   "execution_count": 2,
   "metadata": {},
   "outputs": [],
   "source": [
    "import pandas as pd\n",
    "import numpy as np\n",
    "import datetime\n",
    "import os\n",
    "import fiona\n",
    "import rasterio as rio\n",
    "from rasterio.mask import mask\n",
    "from shapely.geometry import mapping\n",
    "import geopandas as gpd\n",
    "from rasterstats import zonal_stats\n",
    "import matplotlib.pyplot as plt\n",
    "from scipy import stats"
   ]
  },
  {
   "cell_type": "code",
   "execution_count": 3,
   "metadata": {},
   "outputs": [
    {
     "name": "stdout",
     "output_type": "stream",
     "text": [
      "centerline_s_utm07_250m_squarebuffer.shp\n",
      "centerline_n_utm07_250m_circlebuffer.shp\n",
      "centerline_n_utm07_250m.shp\n",
      "centerline_n_utm07_250m_squarebuffer.shp\n",
      "centerline_s_utm07_250m_circlebuffer.shp\n",
      "centerline_s_utm07_500m_circlebuffer.shp\n",
      "centerline_n_utm07_500m_circlebuffer.shp\n",
      "centerline_n_utm07_121pts.shp\n",
      "centerline_n_utm07_500m.shp\n",
      "centerline_n_final_wgs84.shp\n",
      "centerline_s_final_wgs84.shp\n",
      "centerline_n_final_utm07.shp\n",
      "centerline_s_final_utm07.shp\n",
      "centerline_s_utm07_250m.shp\n",
      "\n",
      "centerline_n_utm07_500m_circlebuffer.shp chosen\n",
      "True\n"
     ]
    },
    {
     "data": {
      "text/html": [
       "<div>\n",
       "<style scoped>\n",
       "    .dataframe tbody tr th:only-of-type {\n",
       "        vertical-align: middle;\n",
       "    }\n",
       "\n",
       "    .dataframe tbody tr th {\n",
       "        vertical-align: top;\n",
       "    }\n",
       "\n",
       "    .dataframe thead th {\n",
       "        text-align: right;\n",
       "    }\n",
       "</style>\n",
       "<table border=\"1\" class=\"dataframe\">\n",
       "  <thead>\n",
       "    <tr style=\"text-align: right;\">\n",
       "      <th></th>\n",
       "      <th>id</th>\n",
       "      <th>distance</th>\n",
       "      <th>angle</th>\n",
       "      <th>geometry</th>\n",
       "    </tr>\n",
       "  </thead>\n",
       "  <tbody>\n",
       "    <tr>\n",
       "      <th>0</th>\n",
       "      <td>None</td>\n",
       "      <td>0.0</td>\n",
       "      <td>120.762720</td>\n",
       "      <td>POLYGON ((560899.262 6672656.883, 560887.026 6...</td>\n",
       "    </tr>\n",
       "    <tr>\n",
       "      <th>1</th>\n",
       "      <td>None</td>\n",
       "      <td>500.0</td>\n",
       "      <td>120.762720</td>\n",
       "      <td>POLYGON ((561328.909 6672401.141, 561316.673 6...</td>\n",
       "    </tr>\n",
       "    <tr>\n",
       "      <th>2</th>\n",
       "      <td>None</td>\n",
       "      <td>1000.0</td>\n",
       "      <td>111.317912</td>\n",
       "      <td>POLYGON ((561777.686 6672184.553, 561765.450 6...</td>\n",
       "    </tr>\n",
       "    <tr>\n",
       "      <th>3</th>\n",
       "      <td>None</td>\n",
       "      <td>1500.0</td>\n",
       "      <td>106.858399</td>\n",
       "      <td>POLYGON ((562246.083 6672010.320, 562233.847 6...</td>\n",
       "    </tr>\n",
       "    <tr>\n",
       "      <th>4</th>\n",
       "      <td>None</td>\n",
       "      <td>2000.0</td>\n",
       "      <td>113.629378</td>\n",
       "      <td>POLYGON ((562721.173 6671856.036, 562708.937 6...</td>\n",
       "    </tr>\n",
       "    <tr>\n",
       "      <th>...</th>\n",
       "      <td>...</td>\n",
       "      <td>...</td>\n",
       "      <td>...</td>\n",
       "      <td>...</td>\n",
       "    </tr>\n",
       "    <tr>\n",
       "      <th>56</th>\n",
       "      <td>None</td>\n",
       "      <td>28000.0</td>\n",
       "      <td>119.124053</td>\n",
       "      <td>POLYGON ((577652.493 6654803.399, 577640.257 6...</td>\n",
       "    </tr>\n",
       "    <tr>\n",
       "      <th>57</th>\n",
       "      <td>None</td>\n",
       "      <td>28500.0</td>\n",
       "      <td>116.861918</td>\n",
       "      <td>POLYGON ((578096.990 6654574.559, 578084.754 6...</td>\n",
       "    </tr>\n",
       "    <tr>\n",
       "      <th>58</th>\n",
       "      <td>None</td>\n",
       "      <td>29000.0</td>\n",
       "      <td>119.116146</td>\n",
       "      <td>POLYGON ((578538.770 6654340.605, 578526.534 6...</td>\n",
       "    </tr>\n",
       "    <tr>\n",
       "      <th>59</th>\n",
       "      <td>None</td>\n",
       "      <td>29500.0</td>\n",
       "      <td>118.610460</td>\n",
       "      <td>POLYGON ((578975.645 6654097.419, 578963.409 6...</td>\n",
       "    </tr>\n",
       "    <tr>\n",
       "      <th>60</th>\n",
       "      <td>None</td>\n",
       "      <td>30000.0</td>\n",
       "      <td>118.610460</td>\n",
       "      <td>POLYGON ((579414.593 6653857.993, 579402.357 6...</td>\n",
       "    </tr>\n",
       "  </tbody>\n",
       "</table>\n",
       "<p>61 rows × 4 columns</p>\n",
       "</div>"
      ],
      "text/plain": [
       "      id  distance       angle  \\\n",
       "0   None       0.0  120.762720   \n",
       "1   None     500.0  120.762720   \n",
       "2   None    1000.0  111.317912   \n",
       "3   None    1500.0  106.858399   \n",
       "4   None    2000.0  113.629378   \n",
       "..   ...       ...         ...   \n",
       "56  None   28000.0  119.124053   \n",
       "57  None   28500.0  116.861918   \n",
       "58  None   29000.0  119.116146   \n",
       "59  None   29500.0  118.610460   \n",
       "60  None   30000.0  118.610460   \n",
       "\n",
       "                                             geometry  \n",
       "0   POLYGON ((560899.262 6672656.883, 560887.026 6...  \n",
       "1   POLYGON ((561328.909 6672401.141, 561316.673 6...  \n",
       "2   POLYGON ((561777.686 6672184.553, 561765.450 6...  \n",
       "3   POLYGON ((562246.083 6672010.320, 562233.847 6...  \n",
       "4   POLYGON ((562721.173 6671856.036, 562708.937 6...  \n",
       "..                                                ...  \n",
       "56  POLYGON ((577652.493 6654803.399, 577640.257 6...  \n",
       "57  POLYGON ((578096.990 6654574.559, 578084.754 6...  \n",
       "58  POLYGON ((578538.770 6654340.605, 578526.534 6...  \n",
       "59  POLYGON ((578975.645 6654097.419, 578963.409 6...  \n",
       "60  POLYGON ((579414.593 6653857.993, 579402.357 6...  \n",
       "\n",
       "[61 rows x 4 columns]"
      ]
     },
     "execution_count": 3,
     "metadata": {},
     "output_type": "execute_result"
    }
   ],
   "source": [
    "# load the centerline file:\n",
    "clinepath = '/Users/jukesliu/Documents/TURNER/DATA/shapefiles_gis/centerlines/'\n",
    "for file in os.listdir(clinepath):\n",
    "    if file.endswith('.shp'):\n",
    "        print(file)\n",
    "cfile = 'centerline_n_utm07_500m_circlebuffer.shp'\n",
    "print(); print(cfile, 'chosen')\n",
    "\n",
    "if '_n_' in cfile:\n",
    "    northline = True\n",
    "    newfolder = 'centerline-north'\n",
    "else:\n",
    "    northline = False\n",
    "    newfolder = 'centerline-south'\n",
    "print(northline)\n",
    "\n",
    "# read with geopandas\n",
    "cline_gdf = gpd.read_file(clinepath+cfile)\n",
    "geoms = cline_gdf.geometry.values\n",
    "cline_gdf"
   ]
  },
  {
   "cell_type": "code",
   "execution_count": 5,
   "metadata": {},
   "outputs": [
    {
     "name": "stdout",
     "output_type": "stream",
     "text": [
      "20160717_20151031.tif\n",
      "20180507_20180128.tif\n",
      "20210215_20200605.tif\n",
      "20140318_20131207.tif\n",
      "20190430_20180507.tif\n",
      "20211025_20210717.tif\n",
      "20210717_20210215.tif\n",
      "20200605_20190430.tif\n",
      "20180128_20160717.tif\n",
      "20151031_20140318.tif\n",
      "20220223_20211025.tif\n"
     ]
    },
    {
     "data": {
      "text/html": [
       "<div>\n",
       "<style scoped>\n",
       "    .dataframe tbody tr th:only-of-type {\n",
       "        vertical-align: middle;\n",
       "    }\n",
       "\n",
       "    .dataframe tbody tr th {\n",
       "        vertical-align: top;\n",
       "    }\n",
       "\n",
       "    .dataframe thead th {\n",
       "        text-align: right;\n",
       "    }\n",
       "</style>\n",
       "<table border=\"1\" class=\"dataframe\">\n",
       "  <thead>\n",
       "    <tr style=\"text-align: right;\">\n",
       "      <th></th>\n",
       "      <th>ds1</th>\n",
       "      <th>ds2</th>\n",
       "      <th>fname</th>\n",
       "    </tr>\n",
       "  </thead>\n",
       "  <tbody>\n",
       "    <tr>\n",
       "      <th>0</th>\n",
       "      <td>20131207</td>\n",
       "      <td>20140318</td>\n",
       "      <td>20140318_20131207.tif</td>\n",
       "    </tr>\n",
       "    <tr>\n",
       "      <th>1</th>\n",
       "      <td>20140318</td>\n",
       "      <td>20151031</td>\n",
       "      <td>20151031_20140318.tif</td>\n",
       "    </tr>\n",
       "    <tr>\n",
       "      <th>2</th>\n",
       "      <td>20151031</td>\n",
       "      <td>20160717</td>\n",
       "      <td>20160717_20151031.tif</td>\n",
       "    </tr>\n",
       "    <tr>\n",
       "      <th>3</th>\n",
       "      <td>20160717</td>\n",
       "      <td>20180128</td>\n",
       "      <td>20180128_20160717.tif</td>\n",
       "    </tr>\n",
       "    <tr>\n",
       "      <th>4</th>\n",
       "      <td>20180128</td>\n",
       "      <td>20180507</td>\n",
       "      <td>20180507_20180128.tif</td>\n",
       "    </tr>\n",
       "    <tr>\n",
       "      <th>5</th>\n",
       "      <td>20180507</td>\n",
       "      <td>20190430</td>\n",
       "      <td>20190430_20180507.tif</td>\n",
       "    </tr>\n",
       "    <tr>\n",
       "      <th>6</th>\n",
       "      <td>20190430</td>\n",
       "      <td>20200605</td>\n",
       "      <td>20200605_20190430.tif</td>\n",
       "    </tr>\n",
       "    <tr>\n",
       "      <th>7</th>\n",
       "      <td>20200605</td>\n",
       "      <td>20210215</td>\n",
       "      <td>20210215_20200605.tif</td>\n",
       "    </tr>\n",
       "    <tr>\n",
       "      <th>8</th>\n",
       "      <td>20210215</td>\n",
       "      <td>20210717</td>\n",
       "      <td>20210717_20210215.tif</td>\n",
       "    </tr>\n",
       "    <tr>\n",
       "      <th>9</th>\n",
       "      <td>20210717</td>\n",
       "      <td>20211025</td>\n",
       "      <td>20211025_20210717.tif</td>\n",
       "    </tr>\n",
       "    <tr>\n",
       "      <th>10</th>\n",
       "      <td>20211025</td>\n",
       "      <td>20220223</td>\n",
       "      <td>20220223_20211025.tif</td>\n",
       "    </tr>\n",
       "  </tbody>\n",
       "</table>\n",
       "</div>"
      ],
      "text/plain": [
       "         ds1       ds2                  fname\n",
       "0   20131207  20140318  20140318_20131207.tif\n",
       "1   20140318  20151031  20151031_20140318.tif\n",
       "2   20151031  20160717  20160717_20151031.tif\n",
       "3   20160717  20180128  20180128_20160717.tif\n",
       "4   20180128  20180507  20180507_20180128.tif\n",
       "5   20180507  20190430  20190430_20180507.tif\n",
       "6   20190430  20200605  20200605_20190430.tif\n",
       "7   20200605  20210215  20210215_20200605.tif\n",
       "8   20210215  20210717  20210717_20210215.tif\n",
       "9   20210717  20211025  20211025_20210717.tif\n",
       "10  20211025  20220223  20220223_20211025.tif"
      ]
     },
     "execution_count": 5,
     "metadata": {},
     "output_type": "execute_result"
    }
   ],
   "source": [
    "dem_diff_path = '/Users/jukesliu/Documents/TURNER/DATA/ICE_THICKNESS/surface/final-DEMs/differenced_DEMs/sequential/'\n",
    "\n",
    "# grab differenced DEM info:\n",
    "ds1s = []; ds2s = []; fnames = []\n",
    "for file in os.listdir(dem_diff_path):\n",
    "    if file.endswith('.tif'):\n",
    "        print(file)\n",
    "        [ds1,ds2] = file.split('_') # split filename\n",
    "        ds2 = ds2[:-4] # remove extension\n",
    "        ds2s.append(ds1); ds1s.append(ds2); fnames.append(file)\n",
    "dem_df = pd.DataFrame(list(zip(ds1s, ds2s, fnames)), columns=['ds1','ds2','fname'])\n",
    "dem_df = dem_df.sort_values(by='ds1'); dem_df.reset_index(drop=True)"
   ]
  },
  {
   "cell_type": "markdown",
   "metadata": {},
   "source": [
    "# Extract elevation differences:"
   ]
  },
  {
   "cell_type": "code",
   "execution_count": 16,
   "metadata": {},
   "outputs": [
    {
     "data": {
      "text/plain": [
       "<open DatasetReader name='/Users/jukesliu/Documents/TURNER/DATA/ICE_THICKNESS/surface/final-DEMs/differenced_DEMs/sequential/20180507_20180128.tif' mode='r'>"
      ]
     },
     "execution_count": 16,
     "metadata": {},
     "output_type": "execute_result"
    }
   ],
   "source": [
    "src"
   ]
  },
  {
   "cell_type": "code",
   "execution_count": 15,
   "metadata": {},
   "outputs": [
    {
     "data": {
      "text/plain": [
       "(1, 251, 251)"
      ]
     },
     "execution_count": 15,
     "metadata": {},
     "output_type": "execute_result"
    }
   ],
   "source": [
    "out_image.shape"
   ]
  },
  {
   "cell_type": "code",
   "execution_count": 13,
   "metadata": {
    "scrolled": true
   },
   "outputs": [
    {
     "name": "stdout",
     "output_type": "stream",
     "text": [
      "20140318_20131207.tif\n"
     ]
    },
    {
     "name": "stderr",
     "output_type": "stream",
     "text": [
      "/var/folders/mr/7f69f7y50zj85n420pyvh8cr0000gq/T/ipykernel_36093/3666205671.py:15: RuntimeWarning: Mean of empty slice\n",
      "  mean_diffs.append(np.nanmean(crop_array))\n"
     ]
    },
    {
     "data": {
      "image/png": "[encoded data removed]",
      "text/plain": [
       "<Figure size 432x288 with 1 Axes>"
      ]
     },
     "metadata": {
      "needs_background": "light"
     },
     "output_type": "display_data"
    },
    {
     "name": "stdout",
     "output_type": "stream",
     "text": [
      "61\n",
      "20151031_20140318.tif\n"
     ]
    },
    {
     "name": "stderr",
     "output_type": "stream",
     "text": [
      "/var/folders/mr/7f69f7y50zj85n420pyvh8cr0000gq/T/ipykernel_36093/3666205671.py:15: RuntimeWarning: Mean of empty slice\n",
      "  mean_diffs.append(np.nanmean(crop_array))\n"
     ]
    },
    {
     "data": {
      "image/png": "[encoded data removed]",
      "text/plain": [
       "<Figure size 432x288 with 1 Axes>"
      ]
     },
     "metadata": {
      "needs_background": "light"
     },
     "output_type": "display_data"
    },
    {
     "name": "stdout",
     "output_type": "stream",
     "text": [
      "61\n",
      "20160717_20151031.tif\n"
     ]
    },
    {
     "name": "stderr",
     "output_type": "stream",
     "text": [
      "/var/folders/mr/7f69f7y50zj85n420pyvh8cr0000gq/T/ipykernel_36093/3666205671.py:15: RuntimeWarning: Mean of empty slice\n",
      "  mean_diffs.append(np.nanmean(crop_array))\n"
     ]
    },
    {
     "data": {
      "image/png": "[encoded data removed]",
      "text/plain": [
       "<Figure size 432x288 with 1 Axes>"
      ]
     },
     "metadata": {
      "needs_background": "light"
     },
     "output_type": "display_data"
    },
    {
     "name": "stdout",
     "output_type": "stream",
     "text": [
      "61\n",
      "20180128_20160717.tif\n"
     ]
    },
    {
     "data": {
      "image/png": "[encoded data removed]",
      "text/plain": [
       "<Figure size 432x288 with 1 Axes>"
      ]
     },
     "metadata": {
      "needs_background": "light"
     },
     "output_type": "display_data"
    },
    {
     "name": "stdout",
     "output_type": "stream",
     "text": [
      "61\n",
      "20180507_20180128.tif\n"
     ]
    },
    {
     "ename": "KeyboardInterrupt",
     "evalue": "",
     "output_type": "error",
     "traceback": [
      "\u001b[0;31m---------------------------------------------------------------------------\u001b[0m",
      "\u001b[0;31mKeyboardInterrupt\u001b[0m                         Traceback (most recent call last)",
      "Input \u001b[0;32mIn [13]\u001b[0m, in \u001b[0;36m<cell line: 1>\u001b[0;34m()\u001b[0m\n\u001b[1;32m      1\u001b[0m \u001b[38;5;28;01mfor\u001b[39;00m idx, row \u001b[38;5;129;01min\u001b[39;00m dem_df\u001b[38;5;241m.\u001b[39miterrows():\n\u001b[1;32m      2\u001b[0m         \u001b[38;5;28mprint\u001b[39m(row\u001b[38;5;241m.\u001b[39mfname)\n\u001b[0;32m----> 3\u001b[0m         src \u001b[38;5;241m=\u001b[39m rio\u001b[38;5;241m.\u001b[39mopen(dem_diff_path\u001b[38;5;241m+\u001b[39mrow\u001b[38;5;241m.\u001b[39mfname); elev_diff \u001b[38;5;241m=\u001b[39m src\u001b[38;5;241m.\u001b[39mread(\u001b[38;5;241m1\u001b[39m); affine\u001b[38;5;241m=\u001b[39msrc\u001b[38;5;241m.\u001b[39mtransform\n\u001b[1;32m      5\u001b[0m         dists \u001b[38;5;241m=\u001b[39m []; mean_diffs \u001b[38;5;241m=\u001b[39m []\n\u001b[1;32m      6\u001b[0m         \u001b[38;5;28;01mfor\u001b[39;00m idx2, row2 \u001b[38;5;129;01min\u001b[39;00m cline_gdf\u001b[38;5;241m.\u001b[39miterrows():\n",
      "\u001b[0;31mKeyboardInterrupt\u001b[0m: "
     ]
    }
   ],
   "source": [
    "for idx, row in dem_df.iterrows():\n",
    "        print(row.fname)\n",
    "        src = rio.open(dem_diff_path+row.fname); elev_diff = src.read(1); affine=src.transform\n",
    "        \n",
    "        dists = []; mean_diffs = []\n",
    "        for idx2, row2 in cline_gdf.iterrows():\n",
    "            geom = row2.geometry\n",
    "            dist = row2.distance\n",
    "            dists.append(dist)\n",
    "            try:\n",
    "                out_image, out_transform = mask(src, [mapping(geom)], crop=True)\n",
    "                crop_array = out_image[0,:,:]\n",
    "                crop_array[crop_array < -1e30] = np.NaN\n",
    "#                 print(dist, np.nanmean(crop_array))\n",
    "                mean_diffs.append(np.nanmean(crop_array))\n",
    "            except Exception:\n",
    "                mean_diffs.append(np.NaN)\n",
    "#                 print(dist, 'no overlap')\n",
    "                pass\n",
    "        mean_diffs = np.array(mean_diffs); dists = np.array(dists)\n",
    "        if northline: # flip distances for northern centerline\n",
    "            dists = np.flip(dists)\n",
    "        mean_diffs[mean_diffs == 0] = np.NaN # differences should never be exactly 0\n",
    "        plt.plot(dists/1000, mean_diffs, 'o')\n",
    "        plt.xlim(0, 30)\n",
    "        plt.show()\n",
    "        \n",
    "        # write centerline data to csv\n",
    "        new_df = pd.DataFrame(list(zip(dists, mean_diffs)), columns=['dist_m','mean_elev_diff'])\n",
    "        print(len(new_df))\n",
    "        new_df.to_csv(dem_diff_path+newfolder+'/profile_'+row.ds1+'_'+row.ds2+'.csv')   "
   ]
  },
  {
   "cell_type": "markdown",
   "metadata": {},
   "source": [
    "# Extract elevations:"
   ]
  },
  {
   "cell_type": "code",
   "execution_count": 8,
   "metadata": {},
   "outputs": [],
   "source": [
    "dem_path = '/Users/jukesliu/Documents/TURNER/DATA/ICE_THICKNESS/surface/final-DEMs/'\n",
    "dem_outpath = '/Users/jukesliu/Documents/TURNER/DATA/ICE_THICKNESS/surface/centerline_elevations/'\n",
    "prof_count = 0\n"
   ]
  },
  {
   "cell_type": "code",
   "execution_count": 6,
   "metadata": {
    "scrolled": true
   },
   "outputs": [
    {
     "name": "stdout",
     "output_type": "stream",
     "text": [
      "20140318\n"
     ]
    },
    {
     "name": "stderr",
     "output_type": "stream",
     "text": [
      "/var/folders/mr/7f69f7y50zj85n420pyvh8cr0000gq/T/ipykernel_10422/2736091631.py:25: RuntimeWarning: Mean of empty slice\n",
      "  mean_elev.append(np.nanmean(crop_array))\n"
     ]
    },
    {
     "data": {
      "image/png": "[encoded data removed]",
      "text/plain": [
       "<Figure size 432x288 with 1 Axes>"
      ]
     },
     "metadata": {
      "needs_background": "light"
     },
     "output_type": "display_data"
    },
    {
     "name": "stdout",
     "output_type": "stream",
     "text": [
      "61\n",
      "20220223\n"
     ]
    },
    {
     "name": "stderr",
     "output_type": "stream",
     "text": [
      "/var/folders/mr/7f69f7y50zj85n420pyvh8cr0000gq/T/ipykernel_10422/2736091631.py:25: RuntimeWarning: Mean of empty slice\n",
      "  mean_elev.append(np.nanmean(crop_array))\n"
     ]
    },
    {
     "data": {
      "image/png": "[encoded data removed]",
      "text/plain": [
       "<Figure size 432x288 with 1 Axes>"
      ]
     },
     "metadata": {
      "needs_background": "light"
     },
     "output_type": "display_data"
    },
    {
     "name": "stdout",
     "output_type": "stream",
     "text": [
      "61\n",
      "20180128\n"
     ]
    },
    {
     "name": "stderr",
     "output_type": "stream",
     "text": [
      "/var/folders/mr/7f69f7y50zj85n420pyvh8cr0000gq/T/ipykernel_10422/2736091631.py:25: RuntimeWarning: Mean of empty slice\n",
      "  mean_elev.append(np.nanmean(crop_array))\n"
     ]
    },
    {
     "data": {
      "image/png": "[encoded data removed]",
      "text/plain": [
       "<Figure size 432x288 with 1 Axes>"
      ]
     },
     "metadata": {
      "needs_background": "light"
     },
     "output_type": "display_data"
    },
    {
     "name": "stdout",
     "output_type": "stream",
     "text": [
      "61\n",
      "20180117\n"
     ]
    },
    {
     "name": "stderr",
     "output_type": "stream",
     "text": [
      "/var/folders/mr/7f69f7y50zj85n420pyvh8cr0000gq/T/ipykernel_10422/2736091631.py:25: RuntimeWarning: Mean of empty slice\n",
      "  mean_elev.append(np.nanmean(crop_array))\n"
     ]
    },
    {
     "data": {
      "image/png": "[encoded data removed]",
      "text/plain": [
       "<Figure size 432x288 with 1 Axes>"
      ]
     },
     "metadata": {
      "needs_background": "light"
     },
     "output_type": "display_data"
    },
    {
     "name": "stdout",
     "output_type": "stream",
     "text": [
      "61\n",
      "20220421\n"
     ]
    },
    {
     "name": "stderr",
     "output_type": "stream",
     "text": [
      "/var/folders/mr/7f69f7y50zj85n420pyvh8cr0000gq/T/ipykernel_10422/2736091631.py:25: RuntimeWarning: Mean of empty slice\n",
      "  mean_elev.append(np.nanmean(crop_array))\n"
     ]
    },
    {
     "data": {
      "image/png": "[encoded data removed]",
      "text/plain": [
       "<Figure size 432x288 with 1 Axes>"
      ]
     },
     "metadata": {
      "needs_background": "light"
     },
     "output_type": "display_data"
    },
    {
     "name": "stdout",
     "output_type": "stream",
     "text": [
      "61\n",
      "20220522\n"
     ]
    },
    {
     "data": {
      "image/png": "[encoded data removed]",
      "text/plain": [
       "<Figure size 432x288 with 1 Axes>"
      ]
     },
     "metadata": {
      "needs_background": "light"
     },
     "output_type": "display_data"
    },
    {
     "name": "stdout",
     "output_type": "stream",
     "text": [
      "61\n",
      "20190430\n"
     ]
    },
    {
     "name": "stderr",
     "output_type": "stream",
     "text": [
      "/var/folders/mr/7f69f7y50zj85n420pyvh8cr0000gq/T/ipykernel_10422/2736091631.py:25: RuntimeWarning: Mean of empty slice\n",
      "  mean_elev.append(np.nanmean(crop_array))\n"
     ]
    },
    {
     "data": {
      "image/png": "[encoded data removed]",
      "text/plain": [
       "<Figure size 432x288 with 1 Axes>"
      ]
     },
     "metadata": {
      "needs_background": "light"
     },
     "output_type": "display_data"
    },
    {
     "name": "stdout",
     "output_type": "stream",
     "text": [
      "61\n",
      "20151031\n"
     ]
    },
    {
     "name": "stderr",
     "output_type": "stream",
     "text": [
      "/var/folders/mr/7f69f7y50zj85n420pyvh8cr0000gq/T/ipykernel_10422/2736091631.py:25: RuntimeWarning: Mean of empty slice\n",
      "  mean_elev.append(np.nanmean(crop_array))\n"
     ]
    },
    {
     "data": {
      "image/png": "[encoded data removed]",
      "text/plain": [
       "<Figure size 432x288 with 1 Axes>"
      ]
     },
     "metadata": {
      "needs_background": "light"
     },
     "output_type": "display_data"
    },
    {
     "name": "stdout",
     "output_type": "stream",
     "text": [
      "61\n",
      "20131207\n"
     ]
    },
    {
     "name": "stderr",
     "output_type": "stream",
     "text": [
      "/var/folders/mr/7f69f7y50zj85n420pyvh8cr0000gq/T/ipykernel_10422/2736091631.py:25: RuntimeWarning: Mean of empty slice\n",
      "  mean_elev.append(np.nanmean(crop_array))\n"
     ]
    },
    {
     "data": {
      "image/png": "[encoded data removed]",
      "text/plain": [
       "<Figure size 432x288 with 1 Axes>"
      ]
     },
     "metadata": {
      "needs_background": "light"
     },
     "output_type": "display_data"
    },
    {
     "name": "stdout",
     "output_type": "stream",
     "text": [
      "61\n",
      "20180507\n"
     ]
    },
    {
     "name": "stderr",
     "output_type": "stream",
     "text": [
      "/var/folders/mr/7f69f7y50zj85n420pyvh8cr0000gq/T/ipykernel_10422/2736091631.py:25: RuntimeWarning: Mean of empty slice\n",
      "  mean_elev.append(np.nanmean(crop_array))\n"
     ]
    },
    {
     "data": {
      "image/png": "[encoded data removed]",
      "text/plain": [
       "<Figure size 432x288 with 1 Axes>"
      ]
     },
     "metadata": {
      "needs_background": "light"
     },
     "output_type": "display_data"
    },
    {
     "name": "stdout",
     "output_type": "stream",
     "text": [
      "61\n",
      "20200605\n"
     ]
    },
    {
     "data": {
      "image/png": "[encoded data removed]",
      "text/plain": [
       "<Figure size 432x288 with 1 Axes>"
      ]
     },
     "metadata": {
      "needs_background": "light"
     },
     "output_type": "display_data"
    },
    {
     "name": "stdout",
     "output_type": "stream",
     "text": [
      "61\n",
      "20160717\n"
     ]
    },
    {
     "name": "stderr",
     "output_type": "stream",
     "text": [
      "/var/folders/mr/7f69f7y50zj85n420pyvh8cr0000gq/T/ipykernel_10422/2736091631.py:25: RuntimeWarning: Mean of empty slice\n",
      "  mean_elev.append(np.nanmean(crop_array))\n"
     ]
    },
    {
     "data": {
      "image/png": "[encoded data removed]",
      "text/plain": [
       "<Figure size 432x288 with 1 Axes>"
      ]
     },
     "metadata": {
      "needs_background": "light"
     },
     "output_type": "display_data"
    },
    {
     "name": "stdout",
     "output_type": "stream",
     "text": [
      "61\n",
      "20210717\n"
     ]
    },
    {
     "data": {
      "image/png": "[encoded data removed]",
      "text/plain": [
       "<Figure size 432x288 with 1 Axes>"
      ]
     },
     "metadata": {
      "needs_background": "light"
     },
     "output_type": "display_data"
    },
    {
     "name": "stdout",
     "output_type": "stream",
     "text": [
      "61\n",
      "20211025\n"
     ]
    },
    {
     "name": "stderr",
     "output_type": "stream",
     "text": [
      "/var/folders/mr/7f69f7y50zj85n420pyvh8cr0000gq/T/ipykernel_10422/2736091631.py:25: RuntimeWarning: Mean of empty slice\n",
      "  mean_elev.append(np.nanmean(crop_array))\n"
     ]
    },
    {
     "data": {
      "image/png": "[encoded data removed]",
      "text/plain": [
       "<Figure size 432x288 with 1 Axes>"
      ]
     },
     "metadata": {
      "needs_background": "light"
     },
     "output_type": "display_data"
    },
    {
     "name": "stdout",
     "output_type": "stream",
     "text": [
      "61\n"
     ]
    }
   ],
   "source": [
    "# pull DEM elevations\n",
    "for file in os.listdir(dem_path):\n",
    "    if file.endswith('UTM.tif'):\n",
    "        ds = file.split('_')[0]\n",
    "        print(ds)\n",
    "        \n",
    "        # open DEM\n",
    "        src = rio.open(dem_path+file); elev = src.read(1); affine=src.transform\n",
    "        \n",
    "        # extract mean elevations\n",
    "        dists = []; mean_elev = []\n",
    "        for idx2, row2 in cline_gdf.iterrows():\n",
    "            geom = row2.geometry\n",
    "            dist = row2.distance\n",
    "            dists.append(dist)\n",
    "            try:\n",
    "                out_image, out_transform = mask(src, [mapping(geom)], crop=True)\n",
    "                crop_array = out_image[0,:,:]\n",
    "                crop_array[crop_array < -1e3] = np.NaN\n",
    "#                 print(dist, np.nanmean(crop_array))\n",
    "                mean_elev.append(np.nanmean(crop_array))\n",
    "            except Exception:\n",
    "                mean_elev.append(np.NaN)\n",
    "#                 print(dist, 'no overlap')\n",
    "                pass\n",
    "        mean_elev = np.array(mean_elev); dists = np.array(dists)\n",
    "        if northline: # flip distances for northern centerline\n",
    "            dists = np.flip(dists)\n",
    "            \n",
    "        \n",
    "        mean_elev[mean_elev == 0] = np.NaN # differences should never be exactly 0\n",
    "        plt.plot(dists/1000, mean_elev, 'o')\n",
    "        plt.xlim(0, 30)\n",
    "        plt.show()\n",
    "        \n",
    "        # write centerline data to csv\n",
    "        new_df = pd.DataFrame(list(zip(dists, mean_elev)), columns=['dist_m','mean_elev'])\n",
    "        print(len(new_df))\n",
    "        new_df.to_csv(dem_outpath+'centerline_n_250m_'+ds+'.csv')\n",
    "        \n",
    "        prof_count+=1\n",
    "# os.listdir(dem_path)"
   ]
  },
  {
   "cell_type": "code",
   "execution_count": 329,
   "metadata": {},
   "outputs": [
    {
     "data": {
      "text/plain": [
       "DatetimeIndex(['2013-12-07', '2014-03-18', '2015-10-31', '2016-07-17',\n",
       "               '2018-01-17', '2018-01-28', '2018-05-07', '2019-04-30',\n",
       "               '2020-06-05', '2021-07-17', '2021-10-25', '2022-02-23'],\n",
       "              dtype='datetime64[ns]', freq=None)"
      ]
     },
     "execution_count": 329,
     "metadata": {},
     "output_type": "execute_result"
    }
   ],
   "source": [
    "pd.to_datetime(date_list)"
   ]
  },
  {
   "cell_type": "code",
   "execution_count": 12,
   "metadata": {},
   "outputs": [
    {
     "name": "stdout",
     "output_type": "stream",
     "text": [
      "2013-12-07 0.04321928507249165 2.101871991585408e-66\n",
      "2014-03-18 0.037944785492995695 1.4296256569161442e-28\n",
      "2015-10-31 0.04553135526592637 3.866894043166887e-73\n",
      "2016-07-17 0.048855168029367416 7.410820032859029e-73\n",
      "2018-01-28 0.0518338933377291 6.444778212338843e-68\n",
      "2018-05-07 0.052073917288961116 1.0304373601948233e-66\n",
      "2019-04-30 0.05382631450204082 3.5704605389761764e-62\n",
      "2020-06-05 0.05314912423378142 1.8048201669464722e-57\n",
      "2021-07-17 0.04031397933793334 3.02351432385069e-63\n",
      "2021-10-25 0.04313317881779411 1.4884479858522432e-38\n",
      "2022-02-23 0.04285195054085662 1.63407671156118e-69\n",
      "0.0466120865381707\n"
     ]
    },
    {
     "data": {
      "image/png": "[encoded data removed]",
      "text/plain": [
       "<Figure size 432x288 with 1 Axes>"
      ]
     },
     "metadata": {
      "needs_background": "light"
     },
     "output_type": "display_data"
    }
   ],
   "source": [
    "fig, ax = plt.subplots(1,1,figsize=(6,4))\n",
    "fs = 12\n",
    "##########\n",
    "outfigpath = '/Users/jukesliu/Documents/CONFERENCES/2022_IGS_Juneau/'\n",
    "filelist = os.listdir(dem_outpath); filelist.sort()\n",
    "#########\n",
    "\n",
    "# colors\n",
    "colors = plt.cm.viridis_r(np.linspace(0,1,prof_count))\n",
    "col_count = 0\n",
    "\n",
    "# plt.xlim(14,0)\n",
    "# plt.ylim(-40,400)\n",
    "plt.grid()\n",
    "# plt.xlabel('Distance from terminus [km]',fontsize=fs)\n",
    "# plt.ylabel('Elevation [m a.s.l.]',fontsize=fs)\n",
    "plt.tick_params(labelsize=fs)\n",
    "plt.tight_layout()\n",
    "\n",
    "date_list = []; slopes = []\n",
    "for elevprofile in filelist:\n",
    "    if elevprofile.startswith('centerline_s_250m') and elevprofile.endswith('.csv'):\n",
    "        elev_df = pd.read_csv(dem_outpath+elevprofile)\n",
    "        ds = elevprofile.split('_')[-1][:-4]\n",
    "        ds_leg = ds[0:4]+'-'+ds[4:6]+'-'+ds[6:8]\n",
    "#         print(ds_leg)\n",
    "        \n",
    "    \n",
    "        # EVALUATE SURFACE SLOPE AND PLOT\n",
    "        if ds_leg != '2018-01-17': # incomplete\n",
    "            surface_slope_df = elev_df[(elev_df.dist_m > 1e3) & (elev_df.dist_m < 16e3)] # between 1.5 and 14 km\n",
    "            nanmask = ~np.isnan(surface_slope_df.mean_elev)\n",
    "            \n",
    "            if len(surface_slope_df.mean_elev[nanmask]) == 0:\n",
    "                continu\n",
    "            \n",
    "            slope, intercept, r, p, std_err = stats.linregress(surface_slope_df.dist_m[nanmask], \n",
    "                                                               surface_slope_df.mean_elev[nanmask])  \n",
    "            print(ds_leg, slope, p)\n",
    "            slopes.append(slope)\n",
    "            date_list.append(ds_leg)\n",
    "#         plt.plot(surface_slope_df.dist_m/1000, surface_slope_df.dist_m*slope+intercept, color=colors[col_count])\n",
    "\n",
    "        \n",
    "#         # PLOT ELEVATION PROFILE\n",
    "#         plt.plot(elev_df.dist_m/1000,elev_df.mean_elev, '-', linewidth=2.5, color=colors[col_count],alpha=0.8)\n",
    "    \n",
    "#         # save a figure:\n",
    "#         plt.savefig(outfigpath+'elev_profile_nterm_'+ds+'.png',dpi=200)\n",
    "            \n",
    "        col_count+=1\n",
    "        \n",
    "# background_col='xkcd:white'; ax.set_facecolor(background_col)\n",
    "# plt.gca().axes.get_xaxis().set_ticklabels([])\n",
    "# plt.legend(date_list,ncol=3,loc='lower right',fontsize=fs, framealpha=1) # legend\n",
    "plt.plot(pd.to_datetime(date_list), slopes, 'mx-', markersize=10)\n",
    "plt.ylabel('Surface slope', fontsize=fs)\n",
    "plt.title('Surface slope calculated 0 - 16 km from the terminus')\n",
    "\n",
    "ss_df = pd.DataFrame(list(zip(date_list, slopes)), columns=['datetime','slope'])\n",
    "# ss_df.to_csv(outfigpath+'surface_slopes_0to7km.csv')\n",
    "\n",
    "print(np.nanmean(slopes))\n",
    "\n",
    "plt.show()"
   ]
  },
  {
   "cell_type": "code",
   "execution_count": null,
   "metadata": {},
   "outputs": [],
   "source": []
  }
 ],
 "metadata": {
  "kernelspec": {
   "display_name": "newautoriftenv",
   "language": "python",
   "name": "newautoriftenv"
  },
  "language_info": {
   "codemirror_mode": {
    "name": "ipython",
    "version": 3
   },
   "file_extension": ".py",
   "mimetype": "text/x-python",
   "name": "python",
   "nbconvert_exporter": "python",
   "pygments_lexer": "ipython3",
   "version": "3.9.6"
  }
 },
 "nbformat": 4,
 "nbformat_minor": 4
}

{
 "cells": [
  {
   "cell_type": "code",
   "execution_count": 2,
   "metadata": {},
   "outputs": [],
   "source": [
    "import pandas as pd\n",
    "import numpy as np\n",
    "import matplotlib.pyplot as plt\n",
    "import datetime\n",
    "import os"
   ]
  },
  {
   "cell_type": "code",
   "execution_count": 3,
   "metadata": {},
   "outputs": [
    {
     "name": "stdout",
     "output_type": "stream",
     "text": [
      "surface_slopes_20to30km.csv\n",
      "surface_slopes_30to20km.csv\n",
      "surface_slopes_0to6km.csv\n",
      "surface_slopes_6to20km.csv\n",
      "surface_slopes_0to20km.csv\n",
      "surface_slopes_24to28km.csv\n",
      "surface_slopes_22to30km.csv\n",
      "surface_slopes_24to30km.csv\n"
     ]
    }
   ],
   "source": [
    "basepath = '/Users/jukesliu/Documents/TURNER/DATA/figures/'\n",
    "filelist = []\n",
    "for file in os.listdir(basepath):\n",
    "    if file.endswith('.csv') and file.startswith('surface_slopes'):\n",
    "        print(file)\n",
    "        filelist.append(file)"
   ]
  },
  {
   "cell_type": "code",
   "execution_count": 4,
   "metadata": {},
   "outputs": [],
   "source": [
    "# Read in all three\n",
    "reservior_df = pd.read_csv(basepath+'surface_slopes_6to20km.csv')\n",
    "reservior_df.datetime = pd.to_datetime(reservior_df.datetime)\n",
    "\n",
    "receiving_df = pd.read_csv(basepath+'surface_slopes_0to6km.csv')\n",
    "receiving_df.datetime = pd.to_datetime(receiving_df.datetime)\n",
    "\n",
    "upper_df = pd.read_csv(basepath+'surface_slopes_22to30km.csv')\n",
    "upper_df.datetime = pd.to_datetime(upper_df.datetime)\n",
    "\n",
    "total_df = pd.read_csv(basepath+'surface_slopes_0to20km.csv')\n",
    "total_df.datetime = pd.to_datetime(total_df.datetime)"
   ]
  },
  {
   "cell_type": "code",
   "execution_count": 5,
   "metadata": {},
   "outputs": [
    {
     "data": {
      "text/html": [
       "<div>\n",
       "<style scoped>\n",
       "    .dataframe tbody tr th:only-of-type {\n",
       "        vertical-align: middle;\n",
       "    }\n",
       "\n",
       "    .dataframe tbody tr th {\n",
       "        vertical-align: top;\n",
       "    }\n",
       "\n",
       "    .dataframe thead th {\n",
       "        text-align: right;\n",
       "    }\n",
       "</style>\n",
       "<table border=\"1\" class=\"dataframe\">\n",
       "  <thead>\n",
       "    <tr style=\"text-align: right;\">\n",
       "      <th></th>\n",
       "      <th>Unnamed: 0</th>\n",
       "      <th>datetime</th>\n",
       "      <th>slope</th>\n",
       "    </tr>\n",
       "  </thead>\n",
       "  <tbody>\n",
       "    <tr>\n",
       "      <th>0</th>\n",
       "      <td>0</td>\n",
       "      <td>2012-08-26</td>\n",
       "      <td>0.045472</td>\n",
       "    </tr>\n",
       "    <tr>\n",
       "      <th>1</th>\n",
       "      <td>1</td>\n",
       "      <td>2013-12-07</td>\n",
       "      <td>0.041809</td>\n",
       "    </tr>\n",
       "    <tr>\n",
       "      <th>2</th>\n",
       "      <td>2</td>\n",
       "      <td>2014-03-18</td>\n",
       "      <td>0.042164</td>\n",
       "    </tr>\n",
       "    <tr>\n",
       "      <th>3</th>\n",
       "      <td>3</td>\n",
       "      <td>2015-10-31</td>\n",
       "      <td>0.049204</td>\n",
       "    </tr>\n",
       "    <tr>\n",
       "      <th>4</th>\n",
       "      <td>4</td>\n",
       "      <td>2016-07-17</td>\n",
       "      <td>0.050158</td>\n",
       "    </tr>\n",
       "    <tr>\n",
       "      <th>5</th>\n",
       "      <td>5</td>\n",
       "      <td>2018-01-22</td>\n",
       "      <td>0.048442</td>\n",
       "    </tr>\n",
       "    <tr>\n",
       "      <th>6</th>\n",
       "      <td>6</td>\n",
       "      <td>2018-01-28</td>\n",
       "      <td>0.048454</td>\n",
       "    </tr>\n",
       "    <tr>\n",
       "      <th>7</th>\n",
       "      <td>7</td>\n",
       "      <td>2018-05-07</td>\n",
       "      <td>0.049635</td>\n",
       "    </tr>\n",
       "    <tr>\n",
       "      <th>8</th>\n",
       "      <td>8</td>\n",
       "      <td>2019-04-30</td>\n",
       "      <td>0.051320</td>\n",
       "    </tr>\n",
       "    <tr>\n",
       "      <th>9</th>\n",
       "      <td>9</td>\n",
       "      <td>2020-06-05</td>\n",
       "      <td>0.045190</td>\n",
       "    </tr>\n",
       "    <tr>\n",
       "      <th>10</th>\n",
       "      <td>10</td>\n",
       "      <td>2021-07-17</td>\n",
       "      <td>0.038512</td>\n",
       "    </tr>\n",
       "    <tr>\n",
       "      <th>11</th>\n",
       "      <td>11</td>\n",
       "      <td>2021-10-25</td>\n",
       "      <td>0.042447</td>\n",
       "    </tr>\n",
       "    <tr>\n",
       "      <th>12</th>\n",
       "      <td>12</td>\n",
       "      <td>2022-05-22</td>\n",
       "      <td>0.043279</td>\n",
       "    </tr>\n",
       "  </tbody>\n",
       "</table>\n",
       "</div>"
      ],
      "text/plain": [
       "    Unnamed: 0   datetime     slope\n",
       "0            0 2012-08-26  0.045472\n",
       "1            1 2013-12-07  0.041809\n",
       "2            2 2014-03-18  0.042164\n",
       "3            3 2015-10-31  0.049204\n",
       "4            4 2016-07-17  0.050158\n",
       "5            5 2018-01-22  0.048442\n",
       "6            6 2018-01-28  0.048454\n",
       "7            7 2018-05-07  0.049635\n",
       "8            8 2019-04-30  0.051320\n",
       "9            9 2020-06-05  0.045190\n",
       "10          10 2021-07-17  0.038512\n",
       "11          11 2021-10-25  0.042447\n",
       "12          12 2022-05-22  0.043279"
      ]
     },
     "execution_count": 5,
     "metadata": {},
     "output_type": "execute_result"
    }
   ],
   "source": [
    "reservior_df"
   ]
  },
  {
   "cell_type": "code",
   "execution_count": null,
   "metadata": {},
   "outputs": [],
   "source": []
  },
  {
   "cell_type": "code",
   "execution_count": 6,
   "metadata": {},
   "outputs": [
    {
     "data": {
      "text/plain": [
       "0.877825675533593"
      ]
     },
     "execution_count": 6,
     "metadata": {},
     "output_type": "execute_result"
    }
   ],
   "source": [
    "(0.050158 - 0.041809) / (0.051320 - 0.041809)"
   ]
  },
  {
   "cell_type": "code",
   "execution_count": 28,
   "metadata": {},
   "outputs": [
    {
     "data": {
      "image/png": "[encoded data removed]",
      "text/plain": [
       "<Figure size 504x360 with 2 Axes>"
      ]
     },
     "metadata": {
      "needs_background": "light"
     },
     "output_type": "display_data"
    }
   ],
   "source": [
    "fs = 16\n",
    "height_factor = 4 # ratio of bottom plot to top plot height\n",
    "fig, (ax,twinax) = plt.subplots(2,1,sharex=True,gridspec_kw={'height_ratios': [1, height_factor]}, figsize=(7,5))\n",
    "# twinax = ax.twinx()\n",
    "\n",
    "# plot the same data on both axes\n",
    "ax.plot(upper_df.datetime, upper_df.slope, '-x', color='orange')\n",
    "ax.plot(receiving_df.datetime, receiving_df.slope, '-x', color='green')\n",
    "ax.plot(reservior_df.datetime, reservior_df.slope, '-x', color='purple')\n",
    "ax.plot(total_df.datetime, total_df.slope, '-kx')\n",
    "\n",
    "twinax.plot(upper_df.datetime, upper_df.slope, '-x', color='orange')\n",
    "twinax.plot(receiving_df.datetime, receiving_df.slope, '-x', color='green')\n",
    "twinax.plot(reservior_df.datetime, reservior_df.slope, '-x', color='purple')\n",
    "twinax.plot(total_df.datetime, total_df.slope, '-kx')\n",
    "\n",
    "\n",
    "\n",
    "\n",
    "# zoom-in / limit the view to different portions of the data\n",
    "twinax.set_ylim(0.035, 0.085)  # bottom\n",
    "ax.set_ylim(0.10, .11)  # top\n",
    "\n",
    "# hide the spines between ax and ax2\n",
    "ax.spines['bottom'].set_visible(False)\n",
    "twinax.spines['top'].set_visible(False)\n",
    "ax.xaxis.tick_top()\n",
    "ax.tick_params(labeltop=False)  # don't put tick labels at the top\n",
    "twinax.xaxis.tick_bottom()\n",
    "\n",
    "d = .01  # how big to make the diagonal lines in axes coordinates\n",
    "# arguments to pass to plot, just so we don't keep repeating them\n",
    "kwargs = dict(transform=ax.transAxes, color='k', clip_on=False)\n",
    "\n",
    "ax.plot((-d, +d), (-d*height_factor, +d*height_factor), **kwargs) # top-left diagonal\n",
    "ax.plot((1 - d, 1 + d), (-d*height_factor, +d*height_factor), **kwargs)  # top-right diagonal\n",
    "\n",
    "kwargs.update(transform=twinax.transAxes)  # switch to the bottom axes\n",
    "twinax.plot((-d, +d), (1 - d, 1 + d), **kwargs)  # bottom-left diagonal\n",
    "twinax.plot((1 - d, 1 + d), (1 - d, 1 + d), **kwargs)  # bottom-right diagonal\n",
    "\n",
    "# ax.set_ylim(0.035, 0.075)\n",
    "# twinax.set_ylim(0.07, 0.11)\n",
    "twinax.tick_params(labelsize=fs)\n",
    "# ax.legend(['22 to 30 km'],loc='upper right',fontsize=fs-1)\n",
    "# twinax.legend(['22 to 30 km','0 to 6 km','6 to 20 km','0 to 20 km'],ncol=2, loc='upper center',fontsize=fs-2,\n",
    "#              framealpha=1)\n",
    "twinax.legend(['Upper northern tributary','Recieving zone','Reservior zone','Surge extent (0-20 km)'],\n",
    "              ncol=2, loc='upper center',fontsize=fs-4,\n",
    "             framealpha=1)\n",
    "twinax.set_xlabel('Year',fontsize=fs)\n",
    "ax.tick_params(labelsize=fs)\n",
    "twinax.tick_params(axis='x',rotation=30)\n",
    "ax.grid()\n",
    "twinax.grid()\n",
    "# fig.supylabel('Surface slope',fontsize=fs)\n",
    "ax.set_title('Surface slope',fontsize=fs)\n",
    "plt.tight_layout()\n",
    "plt.savefig('/Users/jukesliu/Documents/TURNER/paper1/figures/surface_slopes.png',dpi=300)\n",
    "plt.show()"
   ]
  },
  {
   "cell_type": "code",
   "execution_count": null,
   "metadata": {},
   "outputs": [],
   "source": []
  }
 ],
 "metadata": {
  "kernelspec": {
   "display_name": "Python 3",
   "language": "python",
   "name": "python3"
  },
  "language_info": {
   "codemirror_mode": {
    "name": "ipython",
    "version": 3
   },
   "file_extension": ".py",
   "mimetype": "text/x-python",
   "name": "python",
   "nbconvert_exporter": "python",
   "pygments_lexer": "ipython3",
   "version": "3.8.2"
  }
 },
 "nbformat": 4,
 "nbformat_minor": 5
}

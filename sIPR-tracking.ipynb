{
 "cells": [
  {
   "cell_type": "code",
   "execution_count": 1,
   "metadata": {},
   "outputs": [],
   "source": [
    "import rasterio as rio\n",
    "import numpy as np\n",
    "import pandas as pd\n",
    "import os\n",
    "from pyproj import Proj # to get UTM coordinates from lat, lon\n",
    "import datetime\n",
    "import matplotlib.pyplot as plt\n",
    "import seaborn as sns\n",
    "\n",
    "# intialize projections:\n",
    "TurnerProj = Proj(\"+proj=utm +zone=7 +hemisphere='N' +ellps=WGS84 +datum=WGS84 +units=m +no_defs\") # UTM Zone 7N"
   ]
  },
  {
   "cell_type": "code",
   "execution_count": 2,
   "metadata": {},
   "outputs": [],
   "source": [
    "basepath = '/Users/jukesliu/Documents/TURNER/DATA/VELOCITY_MAPS/station-tracking/sIPR-projection/'\n",
    "# os.listdir(basepath)"
   ]
  },
  {
   "cell_type": "code",
   "execution_count": 8,
   "metadata": {},
   "outputs": [],
   "source": [
    "# # read in station install coordinates\n",
    "# coords_df = pd.read_csv(basepath+'station_coords_20200904.csv', names=['lat','lon','station_name'])\n",
    "# # convert coordinates to UTM\n",
    "# UTMxs = []; UTMys = []\n",
    "# for idx, row in coords_df.iterrows():\n",
    "#     UTMx, UTMy = TurnerProj(row.lon, row.lat)\n",
    "#     UTMxs.append(UTMx); UTMys.append(UTMy)\n",
    "# coords_df['UTMx'] = UTMxs; coords_df['UTMy'] = UTMys\n",
    "# coords_df.to_csv(basepath+'station_coords_20200904.csv')\n",
    "# coords_df"
   ]
  },
  {
   "cell_type": "code",
   "execution_count": 49,
   "metadata": {
    "scrolled": false
   },
   "outputs": [
    {
     "name": "stdout",
     "output_type": "stream",
     "text": [
      "/Users/jukesliu/Documents/TURNER/DATA/VELOCITY_MAPS/station-tracking/sIPR-projection/velocity_20200904_20200914_100m_S2.tif\n",
      "     datetime station_name           UTMx          UTMy\n",
      "0  2020-09-04         sIPR  570673.404688  6.658274e+06\n",
      "1  2020-09-04     G12_2008  569370.887174  6.658913e+06\n",
      "2  2020-09-04     G14_2008  567597.379098  6.660368e+06\n",
      "3  2020-09-05         sIPR  570685.326563  6.658269e+06\n",
      "4  2020-09-05     G12_2008  569382.762174  6.658908e+06\n",
      "5  2020-09-05     G14_2008  567604.097848  6.660360e+06\n",
      "6  2020-09-06         sIPR  570697.248438  6.658263e+06\n",
      "7  2020-09-06     G12_2008  569394.637174  6.658903e+06\n",
      "8  2020-09-06     G14_2008  567610.816598  6.660351e+06\n",
      "9  2020-09-07         sIPR  570709.248438  6.658257e+06\n",
      "10 2020-09-07     G12_2008  569406.605924  6.658898e+06\n",
      "11 2020-09-07     G14_2008  567617.535348  6.660342e+06\n",
      "12 2020-09-08         sIPR  570721.248438  6.658251e+06\n",
      "13 2020-09-08     G12_2008  569418.574674  6.658892e+06\n",
      "14 2020-09-08     G14_2008  567624.254098  6.660333e+06\n",
      "15 2020-09-09         sIPR  570733.248438  6.658246e+06\n",
      "16 2020-09-09     G12_2008  569430.543424  6.658887e+06\n",
      "17 2020-09-09     G14_2008  567630.972848  6.660325e+06\n",
      "18 2020-09-10         sIPR  570745.248438  6.658240e+06\n",
      "19 2020-09-10     G12_2008  569442.621549  6.658882e+06\n",
      "20 2020-09-10     G14_2008  567637.691598  6.660316e+06\n",
      "21 2020-09-11         sIPR  570757.248438  6.658234e+06\n",
      "22 2020-09-11     G12_2008  569454.699674  6.658877e+06\n",
      "23 2020-09-11     G14_2008  567644.410348  6.660307e+06\n",
      "24 2020-09-12         sIPR  570769.248438  6.658228e+06\n",
      "25 2020-09-12     G12_2008  569466.777799  6.658872e+06\n",
      "26 2020-09-12     G14_2008  567651.129098  6.660298e+06\n",
      "27 2020-09-13         sIPR  570781.248438  6.658223e+06\n",
      "28 2020-09-13     G12_2008  569478.855924  6.658866e+06\n",
      "29 2020-09-13     G14_2008  567657.847848  6.660290e+06\n",
      "30 2020-09-14         sIPR  570793.248438  6.658217e+06\n",
      "31 2020-09-14     G12_2008  569490.934049  6.658861e+06\n",
      "32 2020-09-14     G14_2008  567664.675973  6.660281e+06\n"
     ]
    },
    {
     "data": {
      "image/png": "[encoded data removed]",
      "text/plain": [
       "<Figure size 432x288 with 1 Axes>"
      ]
     },
     "metadata": {
      "needs_background": "light"
     },
     "output_type": "display_data"
    }
   ],
   "source": [
    "for file in os.listdir(basepath):\n",
    "    if file.startswith('velocity_20200904') and file.endswith('.tif'): # SET START DATE HERE\n",
    "        \n",
    "        # grab map dates\n",
    "        ds1 = file.split('_')[1]; ds2 = file.split('_')[2]\n",
    "        d1 = datetime.datetime.strptime(ds1, '%Y%m%d')\n",
    "        d2 = datetime.datetime.strptime(ds2, '%Y%m%d')\n",
    "        dt = d2-d1; dt_days = dt.days # grab time separation\n",
    "        \n",
    "        # read in station install coordinates\n",
    "        coords_df = pd.read_csv(basepath+'station_coords_'+ds1+'.csv',)\n",
    "        \n",
    "        # open the map\n",
    "        print(basepath+file)\n",
    "        mapreader = rio.open(basepath+file)\n",
    "        vx_map = mapreader.read(1); vy_map = mapreader.read(2) # grab the x and y offset maps\n",
    "        \n",
    "        datetimes = []; xcoords = []; ycoords = []; station_names = []\n",
    "        # grab the velocity values for each station each day - skip Nans!!\n",
    "        for t in range(0, dt_days+1): # days after the start date\n",
    "            t_date = d1+datetime.timedelta(days = t)\n",
    "            for idx, row in coords_df.iterrows():\n",
    "                x = row.UTMx; y = row.UTMy\n",
    "                for val in mapreader.sample([(x, y)],indexes=(1,2)):\n",
    "                    vx = val[0]/365; vy = val[1]/365 # grab vx, vy corresponding to that location in m/day\n",
    "                coords_df.loc[idx,'UTMx'] = x + vx; coords_df.loc[idx, 'UTMy'] = y + vy # update coordinates\n",
    "                # append to lists\n",
    "                datetimes.append(t_date); xcoords.append(x+vx); ycoords.append(y+vy); \n",
    "                station_names.append(row.station_name)\n",
    "        \n",
    "        total_df = pd.DataFrame(list(zip(datetimes, station_names, xcoords, ycoords)), \n",
    "             columns=['datetime','station_name','UTMx','UTMy'])\n",
    "        print(total_df)\n",
    "        \n",
    "        # Show movement over time frame:\n",
    "        plt.figure(); plt.axes().set_aspect('equal'); \n",
    "        sns.scatterplot(x=total_df.UTMx, y=total_df.UTMy,hue=total_df.station_name);  plt.show()\n",
    "        \n",
    "        # save a new coordinates file:\n",
    "        coords_df.to_csv(basepath+'station_coords_'+ds2+'.csv',index=False)\n",
    "total_df.to_csv(basepath+'station_coords_daily_'+ds1+'_'+ds2+'.csv', index=False)"
   ]
  },
  {
   "cell_type": "code",
   "execution_count": null,
   "metadata": {},
   "outputs": [],
   "source": []
  }
 ],
 "metadata": {
  "kernelspec": {
   "display_name": "newautoriftenv",
   "language": "python",
   "name": "newautoriftenv"
  },
  "language_info": {
   "codemirror_mode": {
    "name": "ipython",
    "version": 3
   },
   "file_extension": ".py",
   "mimetype": "text/x-python",
   "name": "python",
   "nbconvert_exporter": "python",
   "pygments_lexer": "ipython3",
   "version": "3.9.6"
  }
 },
 "nbformat": 4,
 "nbformat_minor": 4
}

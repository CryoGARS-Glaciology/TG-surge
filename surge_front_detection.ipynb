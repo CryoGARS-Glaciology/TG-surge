{
 "cells": [
  {
   "cell_type": "code",
   "execution_count": 1,
   "id": "d54695d9",
   "metadata": {},
   "outputs": [],
   "source": [
    "import rasterio as rio\n",
    "import numpy as np\n",
    "import pandas as pd\n",
    "import datetime\n",
    "import os"
   ]
  },
  {
   "cell_type": "code",
   "execution_count": null,
   "id": "142ab66c",
   "metadata": {},
   "outputs": [],
   "source": [
    "# read in centerline velocity data (grab mid_date and satellite)\n",
    "\n",
    "# calculate 1D gradient in velocity along centerline\n",
    "\n",
    "# plot centerline velocity vs. distance and centerline velocity gradient vs. distance\n",
    "\n",
    "# pick velocity gradient threshold and spit out the distance from terminus\n",
    "\n",
    "# plot that distance as a line on the map"
   ]
  },
  {
   "cell_type": "code",
   "execution_count": null,
   "id": "d2b9569a",
   "metadata": {},
   "outputs": [],
   "source": [
    "# replot surge front distance from terminus vs. date figure with vmap"
   ]
  }
 ],
 "metadata": {
  "kernelspec": {
   "display_name": "Python 3",
   "language": "python",
   "name": "python3"
  },
  "language_info": {
   "codemirror_mode": {
    "name": "ipython",
    "version": 3
   },
   "file_extension": ".py",
   "mimetype": "text/x-python",
   "name": "python",
   "nbconvert_exporter": "python",
   "pygments_lexer": "ipython3",
   "version": "3.8.13"
  }
 },
 "nbformat": 4,
 "nbformat_minor": 5
}

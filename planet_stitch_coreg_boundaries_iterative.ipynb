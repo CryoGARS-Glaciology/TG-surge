{
 "cells": [
  {
   "cell_type": "markdown",
   "metadata": {},
   "source": [
    "Change the kernel to __newautoriftenv__."
   ]
  },
  {
   "cell_type": "code",
   "execution_count": 1,
   "metadata": {},
   "outputs": [],
   "source": [
    "import rasterio as rio\n",
    "import numpy as np\n",
    "import numpy.ma as ma\n",
    "import matplotlib.pyplot as plt\n",
    "import os\n",
    "import subprocess\n",
    "import shutil\n",
    "from scipy.interpolate import interp2d"
   ]
  },
  {
   "cell_type": "code",
   "execution_count": 2,
   "metadata": {},
   "outputs": [
    {
     "data": {
      "text/plain": [
       "['20190321_182951_1020_3B_AnalyticMS_SR_clip_5m_mv.tif',\n",
       " '20190308_200752_0f3f_3B_AnalyticMS_SR_clip_5m_mv.tif',\n",
       " '20190307_183149_0f33_3B_AnalyticMS_SR_clip_5m_mv.tif',\n",
       " '20190324_182655_104b_3B_AnalyticMS_SR_clip_5m_mv.tif',\n",
       " '20190327_201337_0f34_3B_AnalyticMS_SR_clip_5m_mv.tif',\n",
       " '20190321_200748_1003_3B_AnalyticMS_SR_clip_5m_mv.tif',\n",
       " '20190324_201701_83_1059_3B_AnalyticMS_SR_clip_5m_mv.tif',\n",
       " '20190325_182501_100d_3B_AnalyticMS_SR_clip_5m_mv.tif',\n",
       " '20190308_200412_0e0f_3B_AnalyticMS_SR_clip_5m_mv.tif',\n",
       " '.DS_Store',\n",
       " '20190329_201201_101f_3B_AnalyticMS_SR_clip_5m_mv.tif',\n",
       " '20190324_182653_104b_3B_AnalyticMS_SR_clip_5m_mv.tif',\n",
       " '20190308_200753_0f3f_3B_AnalyticMS_SR_clip_5m_mv.tif',\n",
       " '20190324_182654_104b_3B_AnalyticMS_SR_clip_5m_mv.tif',\n",
       " '20190307_183148_0f33_3B_AnalyticMS_SR_clip_5m_mv.tif',\n",
       " '20190325_200637_0f35_3B_AnalyticMS_SR_clip_5m_mv.tif',\n",
       " '20190325_200518_1021_3B_AnalyticMS_SR_clip_5m_mv.tif',\n",
       " '20190321_182950_1020_3B_AnalyticMS_SR_clip_5m_mv.tif',\n",
       " '20190330_200635_1039_3B_AnalyticMS_SR_clip_5m_mv.tif',\n",
       " '20190325_200640_0f35_3B_AnalyticMS_SR_clip_5m_mv.tif',\n",
       " '20190327_201336_0f34_3B_AnalyticMS_SR_clip_5m_mv.tif',\n",
       " '20190308_182955_104a_3B_AnalyticMS_SR_clip_5m_mv.tif',\n",
       " '20190324_201659_78_1059_3B_AnalyticMS_SR_clip_5m_mv.tif',\n",
       " '20190304_201428_77_105f_3B_AnalyticMS_SR_clip_5m_mv.tif',\n",
       " '20190329_200821_1021_3B_AnalyticMS_SR_clip_5m_mv.tif',\n",
       " '20190308_200409_0e0f_3B_AnalyticMS_SR_clip_5m_mv.tif',\n",
       " '20190324_201205_1014_3B_AnalyticMS_SR_clip_5m_mv.tif',\n",
       " '20190308_182958_104a_3B_AnalyticMS_SR_clip_5m_mv.tif',\n",
       " '20190326_200535_103d_3B_AnalyticMS_SR_clip_5m_mv.tif',\n",
       " '20190307_183152_0f33_3B_AnalyticMS_SR_clip_5m_mv.tif',\n",
       " '20190330_200638_1039_3B_AnalyticMS_SR_clip_5m_mv.tif',\n",
       " '20190324_183025_104a_3B_AnalyticMS_SR_clip_5m_mv.tif',\n",
       " '20190330_201056_0f4e_3B_AnalyticMS_SR_clip_5m_mv.tif',\n",
       " '20190329_200820_1021_3B_AnalyticMS_SR_clip_5m_mv.tif',\n",
       " '20190321_200924_1001_3B_AnalyticMS_SR_clip_5m_mv.tif',\n",
       " '20190311_200243_0e2f_3B_AnalyticMS_SR_clip_5m_mv.tif',\n",
       " '20190324_183023_104a_3B_AnalyticMS_SR_clip_5m_mv.tif',\n",
       " '20190324_183024_104a_3B_AnalyticMS_SR_clip_5m_mv.tif',\n",
       " 'PS_20190307.tif',\n",
       " '20190327_201338_0f34_3B_AnalyticMS_SR_clip_5m_mv.tif',\n",
       " '20190321_200747_1003_3B_AnalyticMS_SR_clip_5m_mv.tif',\n",
       " '20190326_200536_103d_3B_AnalyticMS_SR_clip_5m_mv.tif',\n",
       " '20190324_201206_1014_3B_AnalyticMS_SR_clip_5m_mv.tif',\n",
       " 'PS_20190304.tif',\n",
       " '20190325_200639_0f35_3B_AnalyticMS_SR_clip_5m_mv.tif',\n",
       " '20190326_201300_1011_3B_AnalyticMS_SR_clip_5m_mv.tif',\n",
       " '20190307_183151_0f33_3B_AnalyticMS_SR_clip_5m_mv.tif',\n",
       " '20190329_200518_1009_3B_AnalyticMS_SR_clip_5m_mv.tif',\n",
       " '20190304_201426_72_105f_3B_AnalyticMS_SR_clip_5m_mv.tif',\n",
       " '20190324_201207_1014_3B_AnalyticMS_SR_clip_5m_mv.tif',\n",
       " '20190330_201055_0f4e_3B_AnalyticMS_SR_clip_5m_mv.tif',\n",
       " '20190327_202140_79_1060_3B_AnalyticMS_SR_clip_5m_mv.tif',\n",
       " '20190307_183150_0f33_3B_AnalyticMS_SR_clip_5m_mv.tif',\n",
       " '20190325_200638_0f35_3B_AnalyticMS_SR_clip_5m_mv.tif',\n",
       " '20190326_201301_1011_3B_AnalyticMS_SR_clip_5m_mv.tif',\n",
       " '20190325_200517_1021_3B_AnalyticMS_SR_clip_5m_mv.tif',\n",
       " '20190324_183027_104a_3B_AnalyticMS_SR_clip_5m_mv.tif',\n",
       " '20190324_182656_104b_3B_AnalyticMS_SR_clip_5m_mv.tif',\n",
       " '20190308_200751_0f3f_3B_AnalyticMS_SR_clip_5m_mv.tif',\n",
       " '20190321_182952_1020_3B_AnalyticMS_SR_clip_5m_mv.tif',\n",
       " '20190326_201259_1011_3B_AnalyticMS_SR_clip_5m_mv.tif',\n",
       " '20190330_200637_1039_3B_AnalyticMS_SR_clip_5m_mv.tif',\n",
       " '20190325_194913_64_1062_3B_AnalyticMS_SR_clip_5m_mv.tif',\n",
       " '20190329_201202_101f_3B_AnalyticMS_SR_clip_5m_mv.tif',\n",
       " '20190308_200411_0e0f_3B_AnalyticMS_SR_clip_5m_mv.tif',\n",
       " '20190325_194911_55_1062_3B_AnalyticMS_SR_clip_5m_mv.tif',\n",
       " '20190308_182957_104a_3B_AnalyticMS_SR_clip_5m_mv.tif',\n",
       " '20190325_182502_100d_3B_AnalyticMS_SR_clip_5m_mv.tif',\n",
       " '20190330_200636_1039_3B_AnalyticMS_SR_clip_5m_mv.tif',\n",
       " '20190321_182953_1020_3B_AnalyticMS_SR_clip_5m_mv.tif',\n",
       " '20190321_182954_1020_3B_AnalyticMS_SR_clip_5m_mv.tif',\n",
       " '20190325_194909_46_1062_3B_AnalyticMS_SR_clip_5m_mv.tif',\n",
       " '20190308_200750_0f3f_3B_AnalyticMS_SR_clip_5m_mv.tif',\n",
       " '20190308_182956_104a_3B_AnalyticMS_SR_clip_5m_mv.tif',\n",
       " '20190327_201335_0f34_3B_AnalyticMS_SR_clip_5m_mv.tif',\n",
       " '20190304_201430_83_105f_3B_AnalyticMS_SR_clip_5m_mv.tif',\n",
       " '20190329_201203_101f_3B_AnalyticMS_SR_clip_5m_mv.tif',\n",
       " '20190329_201204_101f_3B_AnalyticMS_SR_clip_5m_mv.tif',\n",
       " '20190308_200410_0e0f_3B_AnalyticMS_SR_clip_5m_mv.tif']"
      ]
     },
     "execution_count": 2,
     "metadata": {},
     "output_type": "execute_result"
    }
   ],
   "source": [
    "basepath = '/Volumes/SGlacier/surge_projects/OGSGlacier/2019_rd/Resampled/March_2019r/'\n",
    "os.listdir(basepath)"
   ]
  },
  {
   "cell_type": "markdown",
   "metadata": {},
   "source": [
    "# Coregister and stitch all Planet tiles for each image date"
   ]
  },
  {
   "cell_type": "code",
   "execution_count": 3,
   "metadata": {},
   "outputs": [
    {
     "name": "stdout",
     "output_type": "stream",
     "text": [
      "['20190304', '20190307', '20190308', '20190311', '20190321', '20190324', '20190325', '20190326', '20190327', '20190329', '20190330']\n"
     ]
    }
   ],
   "source": [
    "# grab unique dates\n",
    "filelist = os.listdir(basepath); filelist.sort()\n",
    "unique_dates = []\n",
    "for file in filelist:\n",
    "    if file.startswith('2') and file.endswith('tif'):\n",
    "        date = file[:8]\n",
    "        unique_dates.append(date)\n",
    "sorted_dates = list(set(unique_dates))\n",
    "sorted_dates.sort()\n",
    "print(sorted_dates)"
   ]
  },
  {
   "cell_type": "code",
   "execution_count": 5,
   "metadata": {
    "scrolled": true
   },
   "outputs": [
    {
     "name": "stdout",
     "output_type": "stream",
     "text": [
      "EPSG:32607\n"
     ]
    },
    {
     "data": {
      "text/plain": [
       "Affine(4.979215074031483, 0.0, 552405.7509554505,\n",
       "       0.0, -4.97921507403153, 6675752.108247815)"
      ]
     },
     "execution_count": 5,
     "metadata": {},
     "output_type": "execute_result"
    }
   ],
   "source": [
    "# Grab the first Planet tile for reference CRS and Transform\n",
    "files = []\n",
    "for file in filelist:\n",
    "    if file.endswith('.tif'):\n",
    "        files.append(file)\n",
    "reftile = rio.open(basepath+files[0])\n",
    "sr_ref = reftile.read(1)\n",
    "print(reftile.crs)\n",
    "reftile.transform"
   ]
  },
  {
   "cell_type": "code",
   "execution_count": 17,
   "metadata": {},
   "outputs": [
    {
     "ename": "NameError",
     "evalue": "name 'sr_coregistered' is not defined",
     "output_type": "error",
     "traceback": [
      "\u001b[0;31m---------------------------------------------------------------------------\u001b[0m",
      "\u001b[0;31mNameError\u001b[0m                                 Traceback (most recent call last)",
      "Input \u001b[0;32mIn [17]\u001b[0m, in \u001b[0;36m<cell line: 1>\u001b[0;34m()\u001b[0m\n\u001b[1;32m      1\u001b[0m \u001b[38;5;28;01mfor\u001b[39;00m t \u001b[38;5;129;01min\u001b[39;00m \u001b[38;5;28mrange\u001b[39m(\u001b[38;5;241m0\u001b[39m, \u001b[38;5;28mlen\u001b[39m(tiles)):\n\u001b[0;32m----> 2\u001b[0m     plt\u001b[38;5;241m.\u001b[39mimshow(sr_coregistered[t],cmap\u001b[38;5;241m=\u001b[39m\u001b[38;5;124m'\u001b[39m\u001b[38;5;124mgray\u001b[39m\u001b[38;5;124m'\u001b[39m); plt\u001b[38;5;241m.\u001b[39mcolorbar(); plt\u001b[38;5;241m.\u001b[39mshow()\n",
      "\u001b[0;31mNameError\u001b[0m: name 'sr_coregistered' is not defined"
     ]
    }
   ],
   "source": [
    "for t in range(0, len(tiles)):\n",
    "    plt.imshow(sr_coregistered[t],cmap='gray'); plt.colorbar(); plt.show()"
   ]
  },
  {
   "cell_type": "code",
   "execution_count": 21,
   "metadata": {
    "scrolled": false
   },
   "outputs": [
    {
     "name": "stdout",
     "output_type": "stream",
     "text": [
      "TILES FOR 20190304\n",
      "20190304_201426_72_105f_3B_AnalyticMS_SR_clip_5m_mv.tif saved. Mean:  0.5170467581949132\n",
      "\n",
      "20190304_201428_77_105f_3B_AnalyticMS_SR_clip_5m_mv.tif not corrected. Grabbing original product.\n",
      "Mean: 0.2752648123460929\n",
      "20190304_201426_72_105f_3B_AnalyticMS_SR_clip_5m_mv.tif already corrected. Grabbing coregistered product.\n",
      "Mean: 0.5170467581949132\n",
      "Current tile is larger.\n",
      "0.045388565231611104\n",
      "0.3189500615347443\n",
      "Mean difference in values from the larger tile in overlap area: -0.24858177245110272\n",
      "Smaller coregistered: 0.0002494837936505614\n",
      "Larger: 0.2752648123460929\n",
      "\n",
      "\n",
      "20190304_201430_83_105f_3B_AnalyticMS_SR_clip_5m_mv.tif not corrected. Grabbing original product.\n",
      "Mean: 0.2989969957584455\n",
      "20190304_201428_77_105f_3B_AnalyticMS_SR_clip_5m_mv.tif already corrected. Grabbing coregistered product.\n",
      "Mean: 0.2752648123460929\n",
      "Previous tile is larger.\n",
      "0.04694670449986086\n",
      "0.07193254327232391\n",
      "Mean difference in values from the larger tile in overlap area: -0.044189078952336105\n",
      "Smaller coregistered: 0.19295266294145091\n",
      "Larger: 0.2310757333937566\n",
      "\n",
      "\n"
     ]
    },
    {
     "data": {
      "image/png": "[encoded data removed]",
      "text/plain": [
       "<Figure size 432x288 with 2 Axes>"
      ]
     },
     "metadata": {
      "needs_background": "light"
     },
     "output_type": "display_data"
    },
    {
     "name": "stdout",
     "output_type": "stream",
     "text": [
      "Overlapping tiles were coregistered.\n"
     ]
    },
    {
     "data": {
      "image/png": "[encoded data removed]",
      "text/plain": [
       "<Figure size 432x288 with 2 Axes>"
      ]
     },
     "metadata": {
      "needs_background": "light"
     },
     "output_type": "display_data"
    },
    {
     "name": "stdout",
     "output_type": "stream",
     "text": [
      "TILES FOR 20190307\n"
     ]
    },
    {
     "ename": "KeyboardInterrupt",
     "evalue": "",
     "output_type": "error",
     "traceback": [
      "\u001b[0;31m---------------------------------------------------------------------------\u001b[0m",
      "\u001b[0;31mKeyboardInterrupt\u001b[0m                         Traceback (most recent call last)",
      "\u001b[0;32m/var/folders/0n/g39xfc553hdfgh41ghm191m80000gq/T/ipykernel_1394/643867398.py\u001b[0m in \u001b[0;36m<module>\u001b[0;34m\u001b[0m\n\u001b[1;32m     20\u001b[0m         \u001b[0;32mif\u001b[0m \u001b[0mt\u001b[0m \u001b[0;34m==\u001b[0m \u001b[0;36m0\u001b[0m\u001b[0;34m:\u001b[0m \u001b[0;31m# for first tile, read in the original\u001b[0m\u001b[0;34m\u001b[0m\u001b[0;34m\u001b[0m\u001b[0m\n\u001b[1;32m     21\u001b[0m             \u001b[0mreader\u001b[0m \u001b[0;34m=\u001b[0m \u001b[0mrio\u001b[0m\u001b[0;34m.\u001b[0m\u001b[0mopen\u001b[0m\u001b[0;34m(\u001b[0m\u001b[0mbasepath\u001b[0m\u001b[0;34m+\u001b[0m\u001b[0mtile\u001b[0m\u001b[0;34m)\u001b[0m\u001b[0;34m;\u001b[0m \u001b[0msr\u001b[0m \u001b[0;34m=\u001b[0m \u001b[0mreader\u001b[0m\u001b[0;34m.\u001b[0m\u001b[0mread\u001b[0m\u001b[0;34m(\u001b[0m\u001b[0;36m1\u001b[0m\u001b[0;34m)\u001b[0m\u001b[0;34m\u001b[0m\u001b[0;34m\u001b[0m\u001b[0m\n\u001b[0;32m---> 22\u001b[0;31m             \u001b[0msr_orig\u001b[0m \u001b[0;34m=\u001b[0m \u001b[0msr\u001b[0m\u001b[0;34m.\u001b[0m\u001b[0mcopy\u001b[0m\u001b[0;34m(\u001b[0m\u001b[0;34m)\u001b[0m\u001b[0;34m;\u001b[0m \u001b[0msr_originals\u001b[0m\u001b[0;34m[\u001b[0m\u001b[0mt\u001b[0m\u001b[0;34m]\u001b[0m \u001b[0;34m=\u001b[0m \u001b[0msr_orig\u001b[0m \u001b[0;31m# store the original tile\u001b[0m\u001b[0;34m\u001b[0m\u001b[0;34m\u001b[0m\u001b[0m\n\u001b[0m\u001b[1;32m     23\u001b[0m             \u001b[0msr\u001b[0m\u001b[0;34m[\u001b[0m\u001b[0msr\u001b[0m\u001b[0;34m>\u001b[0m\u001b[0;36m0\u001b[0m\u001b[0;34m]\u001b[0m \u001b[0;34m=\u001b[0m \u001b[0;36m1\u001b[0m \u001b[0;34m;\u001b[0m \u001b[0msr\u001b[0m\u001b[0;34m[\u001b[0m\u001b[0mnp\u001b[0m\u001b[0;34m.\u001b[0m\u001b[0misnan\u001b[0m\u001b[0;34m(\u001b[0m\u001b[0msr\u001b[0m\u001b[0;34m)\u001b[0m\u001b[0;34m]\u001b[0m \u001b[0;34m=\u001b[0m \u001b[0;36m0\u001b[0m \u001b[0;31m# make tile binary\u001b[0m\u001b[0;34m\u001b[0m\u001b[0;34m\u001b[0m\u001b[0m\n\u001b[1;32m     24\u001b[0m \u001b[0;34m\u001b[0m\u001b[0m\n",
      "\u001b[0;31mKeyboardInterrupt\u001b[0m: "
     ]
    }
   ],
   "source": [
    "for date in sorted_dates:  \n",
    "    print('TILES FOR '+date)\n",
    "    # Grab the Planet tiles corresponding to each unique date\n",
    "    tiles = []\n",
    "    for file in filelist:\n",
    "        if file.startswith(date) and file.endswith('.tif'):\n",
    "            tiles.append(file)\n",
    "    tiles.sort() # sort tilenames alphanumeric order\n",
    "    \n",
    "    # initialize empty arrays\n",
    "    overlap_total = np.zeros(sr_ref.shape); total_coverage = np.zeros(sr_ref.shape).astype(bool)\n",
    "    sr_originals = np.zeros((len(tiles),sr_ref.shape[0],sr_ref.shape[1]))\n",
    "    sr_coregistered = np.zeros((len(tiles),sr_ref.shape[0],sr_ref.shape[1]))\n",
    "    sr_binary = np.zeros((len(tiles),sr_ref.shape[0],sr_ref.shape[1]))\n",
    "    \n",
    "    # For each date's tiles\n",
    "    for t in range(0, len(tiles)):\n",
    "        tile = tiles[t] \n",
    "        \n",
    "        if t == 0: # for first tile, read in the original\n",
    "            reader = rio.open(basepath+tile); sr = reader.read(1) \n",
    "            sr_orig = sr.copy(); sr_originals[t] = sr_orig # store the original tile\n",
    "            sr[sr>0] = 1 ; sr[np.isnan(sr)] = 0 # make tile binary\n",
    "            \n",
    "            sr_data = sr_orig # use the original tile as the data\n",
    "            sr_coregistered[t] = sr_data # skip coregistration\n",
    "            sr_binary[t] = sr # save binary sr\n",
    "\n",
    "            # use binary mask to calculate overlap area\n",
    "            overlap_total = overlap_total+sr # add to calculate overlap\n",
    "            tilesize = np.count_nonzero(sr) # grab the current tile size (pixels)\n",
    "            overlap_area = np.count_nonzero(overlap_total[overlap_total >= 2]) # total overlap area\n",
    "            \n",
    "            print(tile, 'saved. Mean: ',np.nanmean(sr_data)); print(); # Plot!\n",
    "#             plt.imshow(sr_orig,cmap='gray'); plt.title('Tile'); plt.colorbar(); plt.show()\n",
    "    \n",
    "        elif t >= 1: # start comparisons with the second tile\n",
    "            prev_tile = tiles[t-1] # grab previous tile name\n",
    "            \n",
    "            # if the current tile has already been through coregistration or binary sr already saved,\n",
    "            if np.count_nonzero(sr_coregistered[t]) > 0:\n",
    "                print(tile,' already corrected. Grabbing that product.')\n",
    "                sr = sr_binary[t] # grab the binary sr saved from before\n",
    "                sr_data = sr_coregistered[t] # grab the coregistered tile saved from before\n",
    "            else: # if not, read the original\n",
    "                print(tile,'not corrected. Grabbing original product.')\n",
    "                reader = rio.open(basepath+tile); sr = reader.read(1) \n",
    "                sr_orig = sr.copy(); sr_originals[t] = sr_orig # store the original tile\n",
    "                sr_data = sr_orig # use the original tile\n",
    "                sr[sr>0] = 1 ; sr[np.isnan(sr)] = 0 # make tile binary\n",
    "                sr_binary[t] = sr # save the binary sr\n",
    "            print('Mean:',np.nanmean(sr_data))\n",
    "                   \n",
    "            # if previous tile has already been through coregistration or binary sr already saved,\n",
    "            if np.count_nonzero(sr_coregistered[t-1]) > 0:\n",
    "                print(prev_tile,'already corrected. Grabbing coregistered product.')\n",
    "                sr_prev = sr_binary[t-1] # grab the binary sr saved from before\n",
    "                sr_data_prev = sr_coregistered[t-1] # grab the coregistered tile saved from before\n",
    "            else: # if not, read the original\n",
    "                print(prev_tile,'not coregistered. Grabbing original product.')\n",
    "                reader = rio.open(basepath+prev_tile); sr_prev = reader.read(1) \n",
    "                sr_orig = sr_prev.copy(); sr_originals[t-1] = sr_orig # store the original tile\n",
    "                sr_data_prev = sr_orig # use the original tile\n",
    "                sr_prev[sr_prev>0] = 1 ; sr_prev[np.isnan(sr_prev)] = 0 # make tile binary\n",
    "                sr_binary[t-1] = sr_prev # save the binary sr\n",
    "                sr_originals[t-1] = sr_orig # save the original tile\n",
    "            print('Mean:',np.nanmean(sr_data_prev))\n",
    "                \n",
    "#             fig, (ax1,ax2) = plt.subplots(1,2,figsize=(10,5)) # Plot!\n",
    "#             im1 = ax1.imshow(sr_data_prev,cmap='gray'); ax1.set_title('Previous tile'); fig.colorbar(im1, ax=ax1)\n",
    "#             im2 = ax2.imshow(sr_data,cmap='gray'); ax2.set_title('Tile'); fig.colorbar(im2, ax=ax2); plt.show()\n",
    "            \n",
    "            # use binary mask to calculate overlap area between the two\n",
    "            overlap_total = overlap_total+sr # add to calculate overlap\n",
    "            tilesize = np.count_nonzero(sr) # grab the current tile size (pixels)\n",
    "            overlap_area = np.count_nonzero(overlap_total[overlap_total >= 2]) # total overlap area\n",
    "            \n",
    "            # Determine each pair of tiles' overlap\n",
    "            if overlap_area > prev_overlap: # increase in overlapping area indicates we have 2 overlapping tiles!!!\n",
    "                overlap2 = sr_prev+sr # calculate the overlap between just these two\n",
    "                overlap_band = ma.masked_less(overlap2, 2) # mask out non-overlapping area\n",
    "                overlap_band_mask = ma.getmaskarray(overlap_band) # grab the mask for the overlapping area\n",
    "                \n",
    "                # grab the current coverage of the 2 tiles\n",
    "                combined_coverage = ma.masked_greater_equal(overlap2, 1) # get rid of anything less than 1\n",
    "                coverage_mask = ma.getmaskarray(combined_coverage) # grab the mask\n",
    "            \n",
    "                # identify which tile is larger\n",
    "                if tilesize > prev_tilesize:\n",
    "                    print('Current tile is larger.')\n",
    "                    larger_tile = sr_data; smaller_tile = sr_data_prev # assign the tiles\n",
    "                    lt_idx = t; st_idx = t-1 # assign the indices\n",
    "                elif tilesize < prev_tilesize:\n",
    "                    print('Previous tile is larger.')\n",
    "                    larger_tile = sr_data_prev; smaller_tile = sr_data # assign the tiles\n",
    "                    lt_idx = t-1; st_idx = t # assign the indices\n",
    "                else: # equal sizes\n",
    "                    print('Tiles are the same size.')\n",
    "                    larger_tile = sr_data; smaller_tile = sr_data_prev # use current tile to coregister\n",
    "                    lt_idx = t; st_idx = t-1 # assign the indices\n",
    "                    \n",
    "                # grab pixel values from overlapping area from both tiles\n",
    "                overlap_values_l = ma.masked_where(overlap_band_mask, larger_tile)\n",
    "                overlap_values_larger = ~overlap_values_l.mask*overlap_values_l.data\n",
    "                overlap_values_s = ma.masked_where(overlap_band_mask, smaller_tile)\n",
    "                overlap_values_smaller = ~overlap_values_s.mask*overlap_values_s.data\n",
    "                \n",
    "                print(np.nanmean(overlap_values_larger))\n",
    "                print(np.nanmean(overlap_values_smaller))\n",
    "                mean_diff = np.nanmean(np.subtract(overlap_values_larger,overlap_values_smaller)) # mean diff\n",
    "                print('Mean difference in values from the larger tile in overlap area:',mean_diff)\n",
    "\n",
    "                # coregister all other existing tile's values using the mean diff\n",
    "                for et in range(0, len(tiles)):\n",
    "                    if np.count_nonzero(sr_coregistered[et]) > 0: # if it exists\n",
    "                        sr_coregistered[et] = sr_coregistered[et] + mean_diff\n",
    "                # replace the small tile\n",
    "                smaller_tile_coreg = smaller_tile + mean_diff # add the mean difference to all values\n",
    "                smaller_tile_coreg = ma.masked_where(~overlap_band_mask, smaller_tile_coreg) \n",
    "                \n",
    "                # with overlap removed:\n",
    "                masked_smaller_tile_coreg = ~smaller_tile_coreg.mask*smaller_tile_coreg.data \n",
    "                masked_larger_tile = larger_tile # skip masking\n",
    "                print('Smaller coregistered:',np.nanmean(masked_smaller_tile_coreg))\n",
    "                print('Larger:',np.nanmean(larger_tile))\n",
    "                print(); print();\n",
    "                \n",
    "               # only keep part of the tiles that haven't been covered before \n",
    "                if np.count_nonzero(sr_coregistered[lt_idx]) > 0: # if we need to overwrite the larger tile\n",
    "                    masked_larger_tile = larger_tile # skip masking by previous cover\n",
    "                else:\n",
    "                    larger_tile = ma.masked_where(total_coverage,larger_tile)\n",
    "                    masked_larger_tile = ~larger_tile.mask*larger_tile.data\n",
    "                if np.count_nonzero(sr_coregistered[st_idx]) > 0: # if we need to overwrite the smaller tile\n",
    "                    masked_smaller_tile = smaller_tile # skip masking by previous cover\n",
    "                else:\n",
    "                    smaller_tile_coreg = ma.masked_where(total_coverage, smaller_tile_coreg)\n",
    "                    masked_smaller_tile_coreg = ~smaller_tile_coreg.mask*smaller_tile_coreg.data\n",
    "                    \n",
    "                # overwrite the tiles used in comparison\n",
    "                if np.count_nonzero(~np.isnan(masked_larger_tile)) > 0:\n",
    "                    sr_coregistered[lt_idx] = masked_larger_tile\n",
    "                if np.count_nonzero(~np.isnan(masked_smaller_tile_coreg)) > 0:\n",
    "                    sr_coregistered[st_idx] = masked_smaller_tile_coreg # overwrite smaller tile (values shifted)\n",
    "    \n",
    "# #                 # only write over larger tile if blank (don't overwrite)\n",
    "#                 if np.count_nonzero(sr_coregistered[lt_idx]) == 0:\n",
    "#                     sr_coregistered[lt_idx] = masked_larger_tile\n",
    "#                 if np.count_nonzero(sr_coregistered[st_idx]) == 0:\n",
    "#                     sr_coregistered[st_idx] = masked_smaller_tile_coreg\n",
    "                total_coverage = ma.mask_or(total_coverage, coverage_mask) # add to coverage to total coverage\n",
    "            \n",
    "        # Store tile info for the next round of comparison\n",
    "        prev_overlap = overlap_area # amount of pixels overlapping\n",
    "        prev_tilesize = tilesize # previous tile size (pixels w/ data)\n",
    "        \n",
    "    # Evaluate overlap between between all scenes\n",
    "    fig = plt.figure(); im = plt.imshow(overlap_total); fig.colorbar(im); plt.title('Tile overlap '+date); plt.show()\n",
    "    total_overlap_area = np.count_nonzero(overlap_total[overlap_total >= 2]) # overlapping areas will have >= 2\n",
    "    stitched = np.zeros(sr.shape) # intialize stitched array\n",
    "    if total_overlap_area > 0: # if there was overlap\n",
    "        print('Overlapping tiles were coregistered.')\n",
    "        stitched = np.nansum(sr_coregistered,0) # sum all coregistered (along slices)\n",
    "    else: # if no overlap between any of the tiles\n",
    "        stitched = np.nansum(sr_originals,0) # sum all (along slces)\n",
    "    stitched[stitched == 0]=np.NaN # fill in with NaNs\n",
    "    fig = plt.figure(); im = plt.imshow(stitched, cmap='gray'); plt.title('Stitched'); fig.colorbar(im); plt.show()\n",
    "    \n",
    "    # Export stitched image\n",
    "    outfilename = 'PS_'+date+'.tif'\n",
    "    with rio.open(basepath+outfilename,'w',\n",
    "                      driver='GTiff',\n",
    "                      height=stitched.shape[0], # new shape\n",
    "                      width=stitched.shape[1], # new shape\n",
    "                      dtype=stitched.dtype, # data type\n",
    "                      count=1,\n",
    "                      crs=reftile.crs, # the EPSG from the original DEM\n",
    "                      transform=reftile.transform) as dst:\n",
    "            dst.write(stitched, 1)\n",
    "            \n",
    "#     break\n",
    "    del sr_coregistered; del sr_originals; del total_coverage; del overlap_total; del sr_binary;\n",
    "    "
   ]
  },
  {
   "cell_type": "code",
   "execution_count": 19,
   "metadata": {},
   "outputs": [
    {
     "data": {
      "text/plain": [
       "nan"
      ]
     },
     "execution_count": 19,
     "metadata": {},
     "output_type": "execute_result"
    }
   ],
   "source": [
    "np.sum(overlap_values_larger)"
   ]
  },
  {
   "cell_type": "markdown",
   "metadata": {},
   "source": [
    "# Crop images to Turner Glacier's box"
   ]
  },
  {
   "cell_type": "code",
   "execution_count": 228,
   "metadata": {},
   "outputs": [
    {
     "name": "stdout",
     "output_type": "stream",
     "text": [
      "20190304\n",
      "20190307\n"
     ]
    }
   ],
   "source": [
    "boxpath = '/Users/jukesliu/Documents/TURNER/DATA/shapefiles_gis/BoxTurner_UTM_07.shp' # path to shapefile\n",
    "\n",
    "# clip all stitched files\n",
    "for file in os.listdir(basepath):\n",
    "    if file.startswith('PS') and file.endswith('.tif') and 'clipped' not in file:\n",
    "        date = file[3:11]; print(date)\n",
    "        \n",
    "        # if the clipped version doesn't already exist\n",
    "        if not file[:-4]+'_clipped.tif' in os.listdir(basepath): \n",
    "#             print(file)\n",
    "            # Crop file\n",
    "            crop_cmd = 'gdalwarp -cutline '+boxpath+' -crop_to_cutline '\n",
    "            crop_cmd += basepath+file+' '+basepath+file[:-4]+'_clipped.tif'\n",
    "            print(crop_cmd); print()\n",
    "\n",
    "            subprocess.run(crop_cmd,shell=True,check=True); print()\n"
   ]
  },
  {
   "cell_type": "code",
   "execution_count": null,
   "metadata": {},
   "outputs": [],
   "source": []
  }
 ],
 "metadata": {
  "kernelspec": {
   "display_name": "Python 3 (ipykernel)",
   "language": "python",
   "name": "python3"
  },
  "language_info": {
   "codemirror_mode": {
    "name": "ipython",
    "version": 3
   },
   "file_extension": ".py",
   "mimetype": "text/x-python",
   "name": "python",
   "nbconvert_exporter": "python",
   "pygments_lexer": "ipython3",
   "version": "3.10.0"
  }
 },
 "nbformat": 4,
 "nbformat_minor": 4
}
